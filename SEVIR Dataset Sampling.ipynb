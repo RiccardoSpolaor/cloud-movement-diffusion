{
  "cells": [
    {
      "cell_type": "code",
      "execution_count": 1,
      "metadata": {
        "id": "5ycyFQTcN7uL"
      },
      "outputs": [],
      "source": [
        "# Install required libraries.\n",
        "!pip install -q boto3 wandb"
      ]
    },
    {
      "cell_type": "code",
      "execution_count": 2,
      "metadata": {
        "id": "jyYs8i_mSOq0"
      },
      "outputs": [],
      "source": [
        "# Remove data folder if present.\n",
        "!rm -r ./data"
      ]
    },
    {
      "cell_type": "code",
      "source": [
        "# Configuration of SEVIR data location.\n",
        "BUCKET_NAME = 'sevir'\n",
        "DATA_PATH    = '/content/data'\n",
        "CATALOG_PATH = '/content/CATALOG.csv'\n",
        "LOCAL_DIRECTORY = './'\n",
        "\n",
        "# Set the random state for reproducibility.\n",
        "RANDOM_STATE = 54\n",
        "\n",
        "# Configuration of dataset sizes.\n",
        "N_TRAIN = 200\n",
        "N_VAL = 8\n",
        "N_TEST_PER_EVENT_TYPE = 5\n",
        "\n",
        "# Set the image types that each event should contain.\n",
        "img_types = set(['vis', 'ir069', 'ir107', 'vil'])\n",
        "# Set data scaling factor.\n",
        "scaling_factors = { 'vis': 1e-4, 'vil': 1, 'ir069': 1e-2, 'ir107': 1e-2 }"
      ],
      "metadata": {
        "id": "y5SW8Y4YYDYx"
      },
      "execution_count": 3,
      "outputs": []
    },
    {
      "cell_type": "code",
      "execution_count": 4,
      "metadata": {
        "colab": {
          "base_uri": "https://localhost:8080/"
        },
        "id": "02m81_SrN7J6",
        "outputId": "27234dfb-8ecd-4c8e-d456-7fa1a8eb189a"
      },
      "outputs": [
        {
          "output_type": "stream",
          "name": "stdout",
          "text": [
            "s3.ObjectSummary(bucket_name='sevir', key='CATALOG.csv')\n"
          ]
        }
      ],
      "source": [
        "import boto3\n",
        "from botocore.handlers import disable_signing\n",
        "import os\n",
        "from typing import List\n",
        "\n",
        "def sync_s3_bucket(\n",
        "    bucket_name: str,\n",
        "    local_directory: str,\n",
        "    file_type_to_get: str\n",
        "    ) -> None:\n",
        "    s3 = boto3.resource('s3')\n",
        "    s3.meta.client.meta.events.register('choose-signer.s3.*', disable_signing)\n",
        "    bucket = s3.Bucket(bucket_name)\n",
        "\n",
        "    for obj in bucket.objects.all():\n",
        "        # Generate the local file path by appending the object key to the local directory\n",
        "        local_file_path = f\"{local_directory}/{obj.key}\"\n",
        "\n",
        "        # Get just Random Events of 2018, Storm Events of 2019 and the Catalog.\n",
        "        if file_type_to_get in obj.key:\n",
        "          try:\n",
        "              # Download the object to the local file path\n",
        "              os.makedirs(os.path.dirname(local_file_path), exist_ok=True)\n",
        "              print(obj)\n",
        "              bucket.download_file(obj.key, local_file_path)\n",
        "          except:\n",
        "              print(f'error: {obj}')\n",
        "\n",
        "sync_s3_bucket(BUCKET_NAME, LOCAL_DIRECTORY, 'CATALOG')"
      ]
    },
    {
      "cell_type": "code",
      "source": [
        "import h5py # needs conda/pip install h5py\n",
        "import pandas as pd\n",
        "\n",
        "# Read the catalog.\n",
        "catalog = pd.read_csv(CATALOG_PATH, parse_dates=['time_utc'], low_memory=False)"
      ],
      "metadata": {
        "id": "iGk2On0bGSsI"
      },
      "execution_count": 5,
      "outputs": []
    },
    {
      "cell_type": "code",
      "source": [
        "print('Shape of the catalog:', catalog.shape)"
      ],
      "metadata": {
        "colab": {
          "base_uri": "https://localhost:8080/"
        },
        "id": "0uNElrccGW9q",
        "outputId": "1a705767-6f62-4fa1-da04-ffd949b2ad35"
      },
      "execution_count": 6,
      "outputs": [
        {
          "output_type": "stream",
          "name": "stdout",
          "text": [
            "Shape of the catalog: (76004, 21)\n"
          ]
        }
      ]
    },
    {
      "cell_type": "code",
      "source": [
        "catalog.head(5)"
      ],
      "metadata": {
        "colab": {
          "base_uri": "https://localhost:8080/",
          "height": 603
        },
        "id": "2o35Ui7BiSEc",
        "outputId": "88ef659a-e8fb-47f5-f980-4f42c0ba86d6"
      },
      "execution_count": 7,
      "outputs": [
        {
          "output_type": "execute_result",
          "data": {
            "text/plain": [
              "                id                                          file_name  \\\n",
              "0  R18032505027684  vis/2018/SEVIR_VIS_RANDOMEVENTS_2018_0321_0331.h5   \n",
              "1  R18032505027677  vis/2018/SEVIR_VIS_RANDOMEVENTS_2018_0321_0331.h5   \n",
              "2  R18032505027721  vis/2018/SEVIR_VIS_RANDOMEVENTS_2018_0321_0331.h5   \n",
              "3  R18032516508249  vis/2018/SEVIR_VIS_RANDOMEVENTS_2018_0321_0331.h5   \n",
              "4  R18032516507621  vis/2018/SEVIR_VIS_RANDOMEVENTS_2018_0321_0331.h5   \n",
              "\n",
              "   file_index img_type            time_utc  \\\n",
              "0           0      vis 2018-03-25 05:00:00   \n",
              "1           1      vis 2018-03-25 05:00:00   \n",
              "2           2      vis 2018-03-25 05:00:00   \n",
              "3           3      vis 2018-03-25 16:50:00   \n",
              "4           4      vis 2018-03-25 16:50:00   \n",
              "\n",
              "                                      minute_offsets  episode_id  event_id  \\\n",
              "0  -120:-115:-110:-105:-100:-95:-90:-85:-80:-75:-...         NaN       NaN   \n",
              "1  -120:-115:-110:-105:-100:-95:-90:-85:-80:-75:-...         NaN       NaN   \n",
              "2  -120:-115:-110:-105:-100:-95:-90:-85:-80:-75:-...         NaN       NaN   \n",
              "3  -120:-115:-110:-105:-100:-95:-90:-85:-80:-75:-...         NaN       NaN   \n",
              "4  -120:-115:-110:-105:-100:-95:-90:-85:-80:-75:-...         NaN       NaN   \n",
              "\n",
              "  event_type  llcrnrlat  ...  urcrnrlat   urcrnrlon  \\\n",
              "0        NaN  33.216708  ...  36.336627  -87.070254   \n",
              "1        NaN  33.084309  ...  36.213723  -87.301535   \n",
              "2        NaN  46.661866  ...  50.883159 -120.009277   \n",
              "3        NaN  40.883237  ...  43.686191  -79.903987   \n",
              "4        NaN  44.946047  ...  49.169436 -120.575175   \n",
              "\n",
              "                                                proj size_x  size_y  height_m  \\\n",
              "0  +proj=laea +lat_0=38 +lon_0=-98 +units=m +a=63...    768     768  384000.0   \n",
              "1  +proj=laea +lat_0=38 +lon_0=-98 +units=m +a=63...    768     768  384000.0   \n",
              "2  +proj=laea +lat_0=38 +lon_0=-98 +units=m +a=63...    768     768  384000.0   \n",
              "3  +proj=laea +lat_0=38 +lon_0=-98 +units=m +a=63...    768     768  384000.0   \n",
              "4  +proj=laea +lat_0=38 +lon_0=-98 +units=m +a=63...    768     768  384000.0   \n",
              "\n",
              "    width_m  data_min  data_max  pct_missing  \n",
              "0  384000.0 -0.003361  0.005600          0.0  \n",
              "1  384000.0 -0.003361  0.005600          0.0  \n",
              "2  384000.0 -0.002870  0.005548          0.0  \n",
              "3  384000.0  0.029911  0.785600          0.0  \n",
              "4  384000.0  0.028560  0.792610          0.0  \n",
              "\n",
              "[5 rows x 21 columns]"
            ],
            "text/html": [
              "\n",
              "  <div id=\"df-df654cea-9dc3-4b61-8cf7-ba3024a4e103\" class=\"colab-df-container\">\n",
              "    <div>\n",
              "<style scoped>\n",
              "    .dataframe tbody tr th:only-of-type {\n",
              "        vertical-align: middle;\n",
              "    }\n",
              "\n",
              "    .dataframe tbody tr th {\n",
              "        vertical-align: top;\n",
              "    }\n",
              "\n",
              "    .dataframe thead th {\n",
              "        text-align: right;\n",
              "    }\n",
              "</style>\n",
              "<table border=\"1\" class=\"dataframe\">\n",
              "  <thead>\n",
              "    <tr style=\"text-align: right;\">\n",
              "      <th></th>\n",
              "      <th>id</th>\n",
              "      <th>file_name</th>\n",
              "      <th>file_index</th>\n",
              "      <th>img_type</th>\n",
              "      <th>time_utc</th>\n",
              "      <th>minute_offsets</th>\n",
              "      <th>episode_id</th>\n",
              "      <th>event_id</th>\n",
              "      <th>event_type</th>\n",
              "      <th>llcrnrlat</th>\n",
              "      <th>...</th>\n",
              "      <th>urcrnrlat</th>\n",
              "      <th>urcrnrlon</th>\n",
              "      <th>proj</th>\n",
              "      <th>size_x</th>\n",
              "      <th>size_y</th>\n",
              "      <th>height_m</th>\n",
              "      <th>width_m</th>\n",
              "      <th>data_min</th>\n",
              "      <th>data_max</th>\n",
              "      <th>pct_missing</th>\n",
              "    </tr>\n",
              "  </thead>\n",
              "  <tbody>\n",
              "    <tr>\n",
              "      <th>0</th>\n",
              "      <td>R18032505027684</td>\n",
              "      <td>vis/2018/SEVIR_VIS_RANDOMEVENTS_2018_0321_0331.h5</td>\n",
              "      <td>0</td>\n",
              "      <td>vis</td>\n",
              "      <td>2018-03-25 05:00:00</td>\n",
              "      <td>-120:-115:-110:-105:-100:-95:-90:-85:-80:-75:-...</td>\n",
              "      <td>NaN</td>\n",
              "      <td>NaN</td>\n",
              "      <td>NaN</td>\n",
              "      <td>33.216708</td>\n",
              "      <td>...</td>\n",
              "      <td>36.336627</td>\n",
              "      <td>-87.070254</td>\n",
              "      <td>+proj=laea +lat_0=38 +lon_0=-98 +units=m +a=63...</td>\n",
              "      <td>768</td>\n",
              "      <td>768</td>\n",
              "      <td>384000.0</td>\n",
              "      <td>384000.0</td>\n",
              "      <td>-0.003361</td>\n",
              "      <td>0.005600</td>\n",
              "      <td>0.0</td>\n",
              "    </tr>\n",
              "    <tr>\n",
              "      <th>1</th>\n",
              "      <td>R18032505027677</td>\n",
              "      <td>vis/2018/SEVIR_VIS_RANDOMEVENTS_2018_0321_0331.h5</td>\n",
              "      <td>1</td>\n",
              "      <td>vis</td>\n",
              "      <td>2018-03-25 05:00:00</td>\n",
              "      <td>-120:-115:-110:-105:-100:-95:-90:-85:-80:-75:-...</td>\n",
              "      <td>NaN</td>\n",
              "      <td>NaN</td>\n",
              "      <td>NaN</td>\n",
              "      <td>33.084309</td>\n",
              "      <td>...</td>\n",
              "      <td>36.213723</td>\n",
              "      <td>-87.301535</td>\n",
              "      <td>+proj=laea +lat_0=38 +lon_0=-98 +units=m +a=63...</td>\n",
              "      <td>768</td>\n",
              "      <td>768</td>\n",
              "      <td>384000.0</td>\n",
              "      <td>384000.0</td>\n",
              "      <td>-0.003361</td>\n",
              "      <td>0.005600</td>\n",
              "      <td>0.0</td>\n",
              "    </tr>\n",
              "    <tr>\n",
              "      <th>2</th>\n",
              "      <td>R18032505027721</td>\n",
              "      <td>vis/2018/SEVIR_VIS_RANDOMEVENTS_2018_0321_0331.h5</td>\n",
              "      <td>2</td>\n",
              "      <td>vis</td>\n",
              "      <td>2018-03-25 05:00:00</td>\n",
              "      <td>-120:-115:-110:-105:-100:-95:-90:-85:-80:-75:-...</td>\n",
              "      <td>NaN</td>\n",
              "      <td>NaN</td>\n",
              "      <td>NaN</td>\n",
              "      <td>46.661866</td>\n",
              "      <td>...</td>\n",
              "      <td>50.883159</td>\n",
              "      <td>-120.009277</td>\n",
              "      <td>+proj=laea +lat_0=38 +lon_0=-98 +units=m +a=63...</td>\n",
              "      <td>768</td>\n",
              "      <td>768</td>\n",
              "      <td>384000.0</td>\n",
              "      <td>384000.0</td>\n",
              "      <td>-0.002870</td>\n",
              "      <td>0.005548</td>\n",
              "      <td>0.0</td>\n",
              "    </tr>\n",
              "    <tr>\n",
              "      <th>3</th>\n",
              "      <td>R18032516508249</td>\n",
              "      <td>vis/2018/SEVIR_VIS_RANDOMEVENTS_2018_0321_0331.h5</td>\n",
              "      <td>3</td>\n",
              "      <td>vis</td>\n",
              "      <td>2018-03-25 16:50:00</td>\n",
              "      <td>-120:-115:-110:-105:-100:-95:-90:-85:-80:-75:-...</td>\n",
              "      <td>NaN</td>\n",
              "      <td>NaN</td>\n",
              "      <td>NaN</td>\n",
              "      <td>40.883237</td>\n",
              "      <td>...</td>\n",
              "      <td>43.686191</td>\n",
              "      <td>-79.903987</td>\n",
              "      <td>+proj=laea +lat_0=38 +lon_0=-98 +units=m +a=63...</td>\n",
              "      <td>768</td>\n",
              "      <td>768</td>\n",
              "      <td>384000.0</td>\n",
              "      <td>384000.0</td>\n",
              "      <td>0.029911</td>\n",
              "      <td>0.785600</td>\n",
              "      <td>0.0</td>\n",
              "    </tr>\n",
              "    <tr>\n",
              "      <th>4</th>\n",
              "      <td>R18032516507621</td>\n",
              "      <td>vis/2018/SEVIR_VIS_RANDOMEVENTS_2018_0321_0331.h5</td>\n",
              "      <td>4</td>\n",
              "      <td>vis</td>\n",
              "      <td>2018-03-25 16:50:00</td>\n",
              "      <td>-120:-115:-110:-105:-100:-95:-90:-85:-80:-75:-...</td>\n",
              "      <td>NaN</td>\n",
              "      <td>NaN</td>\n",
              "      <td>NaN</td>\n",
              "      <td>44.946047</td>\n",
              "      <td>...</td>\n",
              "      <td>49.169436</td>\n",
              "      <td>-120.575175</td>\n",
              "      <td>+proj=laea +lat_0=38 +lon_0=-98 +units=m +a=63...</td>\n",
              "      <td>768</td>\n",
              "      <td>768</td>\n",
              "      <td>384000.0</td>\n",
              "      <td>384000.0</td>\n",
              "      <td>0.028560</td>\n",
              "      <td>0.792610</td>\n",
              "      <td>0.0</td>\n",
              "    </tr>\n",
              "  </tbody>\n",
              "</table>\n",
              "<p>5 rows × 21 columns</p>\n",
              "</div>\n",
              "    <div class=\"colab-df-buttons\">\n",
              "\n",
              "  <div class=\"colab-df-container\">\n",
              "    <button class=\"colab-df-convert\" onclick=\"convertToInteractive('df-df654cea-9dc3-4b61-8cf7-ba3024a4e103')\"\n",
              "            title=\"Convert this dataframe to an interactive table.\"\n",
              "            style=\"display:none;\">\n",
              "\n",
              "  <svg xmlns=\"http://www.w3.org/2000/svg\" height=\"24px\" viewBox=\"0 -960 960 960\">\n",
              "    <path d=\"M120-120v-720h720v720H120Zm60-500h600v-160H180v160Zm220 220h160v-160H400v160Zm0 220h160v-160H400v160ZM180-400h160v-160H180v160Zm440 0h160v-160H620v160ZM180-180h160v-160H180v160Zm440 0h160v-160H620v160Z\"/>\n",
              "  </svg>\n",
              "    </button>\n",
              "\n",
              "  <style>\n",
              "    .colab-df-container {\n",
              "      display:flex;\n",
              "      gap: 12px;\n",
              "    }\n",
              "\n",
              "    .colab-df-convert {\n",
              "      background-color: #E8F0FE;\n",
              "      border: none;\n",
              "      border-radius: 50%;\n",
              "      cursor: pointer;\n",
              "      display: none;\n",
              "      fill: #1967D2;\n",
              "      height: 32px;\n",
              "      padding: 0 0 0 0;\n",
              "      width: 32px;\n",
              "    }\n",
              "\n",
              "    .colab-df-convert:hover {\n",
              "      background-color: #E2EBFA;\n",
              "      box-shadow: 0px 1px 2px rgba(60, 64, 67, 0.3), 0px 1px 3px 1px rgba(60, 64, 67, 0.15);\n",
              "      fill: #174EA6;\n",
              "    }\n",
              "\n",
              "    .colab-df-buttons div {\n",
              "      margin-bottom: 4px;\n",
              "    }\n",
              "\n",
              "    [theme=dark] .colab-df-convert {\n",
              "      background-color: #3B4455;\n",
              "      fill: #D2E3FC;\n",
              "    }\n",
              "\n",
              "    [theme=dark] .colab-df-convert:hover {\n",
              "      background-color: #434B5C;\n",
              "      box-shadow: 0px 1px 3px 1px rgba(0, 0, 0, 0.15);\n",
              "      filter: drop-shadow(0px 1px 2px rgba(0, 0, 0, 0.3));\n",
              "      fill: #FFFFFF;\n",
              "    }\n",
              "  </style>\n",
              "\n",
              "    <script>\n",
              "      const buttonEl =\n",
              "        document.querySelector('#df-df654cea-9dc3-4b61-8cf7-ba3024a4e103 button.colab-df-convert');\n",
              "      buttonEl.style.display =\n",
              "        google.colab.kernel.accessAllowed ? 'block' : 'none';\n",
              "\n",
              "      async function convertToInteractive(key) {\n",
              "        const element = document.querySelector('#df-df654cea-9dc3-4b61-8cf7-ba3024a4e103');\n",
              "        const dataTable =\n",
              "          await google.colab.kernel.invokeFunction('convertToInteractive',\n",
              "                                                    [key], {});\n",
              "        if (!dataTable) return;\n",
              "\n",
              "        const docLinkHtml = 'Like what you see? Visit the ' +\n",
              "          '<a target=\"_blank\" href=https://colab.research.google.com/notebooks/data_table.ipynb>data table notebook</a>'\n",
              "          + ' to learn more about interactive tables.';\n",
              "        element.innerHTML = '';\n",
              "        dataTable['output_type'] = 'display_data';\n",
              "        await google.colab.output.renderOutput(dataTable, element);\n",
              "        const docLink = document.createElement('div');\n",
              "        docLink.innerHTML = docLinkHtml;\n",
              "        element.appendChild(docLink);\n",
              "      }\n",
              "    </script>\n",
              "  </div>\n",
              "\n",
              "\n",
              "<div id=\"df-7f000de3-5667-4999-8ac1-aded76146411\">\n",
              "  <button class=\"colab-df-quickchart\" onclick=\"quickchart('df-7f000de3-5667-4999-8ac1-aded76146411')\"\n",
              "            title=\"Suggest charts.\"\n",
              "            style=\"display:none;\">\n",
              "\n",
              "<svg xmlns=\"http://www.w3.org/2000/svg\" height=\"24px\"viewBox=\"0 0 24 24\"\n",
              "     width=\"24px\">\n",
              "    <g>\n",
              "        <path d=\"M19 3H5c-1.1 0-2 .9-2 2v14c0 1.1.9 2 2 2h14c1.1 0 2-.9 2-2V5c0-1.1-.9-2-2-2zM9 17H7v-7h2v7zm4 0h-2V7h2v10zm4 0h-2v-4h2v4z\"/>\n",
              "    </g>\n",
              "</svg>\n",
              "  </button>\n",
              "\n",
              "<style>\n",
              "  .colab-df-quickchart {\n",
              "      --bg-color: #E8F0FE;\n",
              "      --fill-color: #1967D2;\n",
              "      --hover-bg-color: #E2EBFA;\n",
              "      --hover-fill-color: #174EA6;\n",
              "      --disabled-fill-color: #AAA;\n",
              "      --disabled-bg-color: #DDD;\n",
              "  }\n",
              "\n",
              "  [theme=dark] .colab-df-quickchart {\n",
              "      --bg-color: #3B4455;\n",
              "      --fill-color: #D2E3FC;\n",
              "      --hover-bg-color: #434B5C;\n",
              "      --hover-fill-color: #FFFFFF;\n",
              "      --disabled-bg-color: #3B4455;\n",
              "      --disabled-fill-color: #666;\n",
              "  }\n",
              "\n",
              "  .colab-df-quickchart {\n",
              "    background-color: var(--bg-color);\n",
              "    border: none;\n",
              "    border-radius: 50%;\n",
              "    cursor: pointer;\n",
              "    display: none;\n",
              "    fill: var(--fill-color);\n",
              "    height: 32px;\n",
              "    padding: 0;\n",
              "    width: 32px;\n",
              "  }\n",
              "\n",
              "  .colab-df-quickchart:hover {\n",
              "    background-color: var(--hover-bg-color);\n",
              "    box-shadow: 0 1px 2px rgba(60, 64, 67, 0.3), 0 1px 3px 1px rgba(60, 64, 67, 0.15);\n",
              "    fill: var(--button-hover-fill-color);\n",
              "  }\n",
              "\n",
              "  .colab-df-quickchart-complete:disabled,\n",
              "  .colab-df-quickchart-complete:disabled:hover {\n",
              "    background-color: var(--disabled-bg-color);\n",
              "    fill: var(--disabled-fill-color);\n",
              "    box-shadow: none;\n",
              "  }\n",
              "\n",
              "  .colab-df-spinner {\n",
              "    border: 2px solid var(--fill-color);\n",
              "    border-color: transparent;\n",
              "    border-bottom-color: var(--fill-color);\n",
              "    animation:\n",
              "      spin 1s steps(1) infinite;\n",
              "  }\n",
              "\n",
              "  @keyframes spin {\n",
              "    0% {\n",
              "      border-color: transparent;\n",
              "      border-bottom-color: var(--fill-color);\n",
              "      border-left-color: var(--fill-color);\n",
              "    }\n",
              "    20% {\n",
              "      border-color: transparent;\n",
              "      border-left-color: var(--fill-color);\n",
              "      border-top-color: var(--fill-color);\n",
              "    }\n",
              "    30% {\n",
              "      border-color: transparent;\n",
              "      border-left-color: var(--fill-color);\n",
              "      border-top-color: var(--fill-color);\n",
              "      border-right-color: var(--fill-color);\n",
              "    }\n",
              "    40% {\n",
              "      border-color: transparent;\n",
              "      border-right-color: var(--fill-color);\n",
              "      border-top-color: var(--fill-color);\n",
              "    }\n",
              "    60% {\n",
              "      border-color: transparent;\n",
              "      border-right-color: var(--fill-color);\n",
              "    }\n",
              "    80% {\n",
              "      border-color: transparent;\n",
              "      border-right-color: var(--fill-color);\n",
              "      border-bottom-color: var(--fill-color);\n",
              "    }\n",
              "    90% {\n",
              "      border-color: transparent;\n",
              "      border-bottom-color: var(--fill-color);\n",
              "    }\n",
              "  }\n",
              "</style>\n",
              "\n",
              "  <script>\n",
              "    async function quickchart(key) {\n",
              "      const quickchartButtonEl =\n",
              "        document.querySelector('#' + key + ' button');\n",
              "      quickchartButtonEl.disabled = true;  // To prevent multiple clicks.\n",
              "      quickchartButtonEl.classList.add('colab-df-spinner');\n",
              "      try {\n",
              "        const charts = await google.colab.kernel.invokeFunction(\n",
              "            'suggestCharts', [key], {});\n",
              "      } catch (error) {\n",
              "        console.error('Error during call to suggestCharts:', error);\n",
              "      }\n",
              "      quickchartButtonEl.classList.remove('colab-df-spinner');\n",
              "      quickchartButtonEl.classList.add('colab-df-quickchart-complete');\n",
              "    }\n",
              "    (() => {\n",
              "      let quickchartButtonEl =\n",
              "        document.querySelector('#df-7f000de3-5667-4999-8ac1-aded76146411 button');\n",
              "      quickchartButtonEl.style.display =\n",
              "        google.colab.kernel.accessAllowed ? 'block' : 'none';\n",
              "    })();\n",
              "  </script>\n",
              "</div>\n",
              "    </div>\n",
              "  </div>\n"
            ]
          },
          "metadata": {},
          "execution_count": 7
        }
      ]
    },
    {
      "cell_type": "code",
      "source": [
        "from typing import List, Optional, Set\n",
        "\n",
        "def get_desired_event_ids(\n",
        "    catalog: pd.DataFrame,\n",
        "    img_types: Set[str],\n",
        "    event_kind: str,\n",
        "    event_type: Optional[str] = None\n",
        "    ) -> List[str]:\n",
        "    # Keep just the catalog entries of the desired event.\n",
        "    catalog = catalog[catalog['file_name'].str.contains(event_kind)]\n",
        "    # Filter by event type.\n",
        "    if event_type:\n",
        "      catalog = catalog[catalog.event_type == event_type]\n",
        "    # Keep just the catalog entries with no missing values across the frames.\n",
        "    catalog = catalog[catalog['pct_missing'] == 0]\n",
        "    # Group by id and filter out the events that do not have all desired img_types.\n",
        "    events = catalog.groupby('id').filter(\n",
        "        lambda x: img_types.issubset(set(x['img_type']))).groupby('id')\n",
        "    # Get the filtered id keys.\n",
        "    return list(events.groups.keys())"
      ],
      "metadata": {
        "id": "Ud4UysevLKm0"
      },
      "execution_count": 8,
      "outputs": []
    },
    {
      "cell_type": "code",
      "source": [
        "# Get the event ids of kind RANDOMEVENTS_2018\n",
        "event_ids = get_desired_event_ids(catalog, img_types, 'RANDOMEVENTS_2018')\n",
        "print(f'Found {len(event_ids)} RANDOMEVENTS_2018 events matching: {\", \".join(img_types)}')"
      ],
      "metadata": {
        "colab": {
          "base_uri": "https://localhost:8080/"
        },
        "id": "8HCdK9POHv95",
        "outputId": "9ffcec78-4264-4be6-a474-0c5e6ab58350"
      },
      "execution_count": 9,
      "outputs": [
        {
          "output_type": "stream",
          "name": "stdout",
          "text": [
            "Found 4552 RANDOMEVENTS_2018 events matching: ir069, vil, ir107, vis\n"
          ]
        }
      ]
    },
    {
      "cell_type": "code",
      "source": [
        "from typing import List\n",
        "import random\n",
        "\n",
        "def get_sampled_events_ids(\n",
        "    event_ids: List[str],\n",
        "    n_samples: int,\n",
        "    random_state: int) -> List[str]:\n",
        "    # Start of the range.\n",
        "    range_start = 0\n",
        "    # End of the range.\n",
        "    range_end = len(event_ids)\n",
        "\n",
        "    # Get the random samples.\n",
        "    random_generator = random.Random(random_state)\n",
        "    random_samples = random_generator.sample(range(range_start, range_end), n_samples)\n",
        "\n",
        "    # Assert that n_tot samples have been selected.\n",
        "    assert len(pd.unique(random_samples)) == n_samples\n",
        "    # Return the selected event ids.\n",
        "    return [event_ids[idx] for idx in random_samples]\n"
      ],
      "metadata": {
        "id": "Aaq3oWtRahb1"
      },
      "execution_count": 10,
      "outputs": []
    },
    {
      "cell_type": "code",
      "source": [
        "# Get total number of events for training and validation.\n",
        "n_tot = N_TRAIN + N_VAL\n",
        "\n",
        "# Get the sampled event ids.\n",
        "sampled_events_ids = get_sampled_events_ids(event_ids, n_tot, RANDOM_STATE)\n",
        "\n",
        "# Get the train and validation samples.\n",
        "train_samples_ids = sampled_events_ids[:N_TRAIN]\n",
        "val_samples_ids = sampled_events_ids[-N_VAL:]\n",
        "\n",
        "# Assert that the train and validation samples are different.\n",
        "assert not list(set(train_samples_ids) & set(val_samples_ids))"
      ],
      "metadata": {
        "id": "FHZcQab5JHAH"
      },
      "execution_count": 11,
      "outputs": []
    },
    {
      "cell_type": "code",
      "source": [
        "print(\n",
        "    'Possible event types:',\n",
        "    ', '.join([str(event) for event in catalog.event_type.unique()]),\n",
        "    end='.\\n')"
      ],
      "metadata": {
        "colab": {
          "base_uri": "https://localhost:8080/"
        },
        "id": "UZtOekALfU6Q",
        "outputId": "8c0e02a9-785b-40b2-d973-7e26f86a9ccc"
      },
      "execution_count": 12,
      "outputs": [
        {
          "output_type": "stream",
          "name": "stdout",
          "text": [
            "Possible event types: nan, Tornado, Thunderstorm Wind, Hail, Funnel Cloud, Flash Flood, Heavy Rain, Flood, Lightning.\n"
          ]
        }
      ]
    },
    {
      "cell_type": "code",
      "source": [
        "# Get possible event types.\n",
        "event_types = [event for event in catalog.event_type.unique() if type(event) == str]\n",
        "\n",
        "test_samples_ids = []\n",
        "\n",
        "for event_type in event_types:\n",
        "    # Get the event ids of kind STORMEVENTS_2019 by event type\n",
        "    event_ids = get_desired_event_ids(catalog, img_types, 'STORMEVENTS_2019', event_type)\n",
        "    print(f'Found {len(event_ids)} STORMEVENTS_2019 of type \"{event_type}\" events matching: {\", \".join(img_types)}')\n",
        "\n",
        "    # Get the sampled event ids.\n",
        "    sampled_events_ids = get_sampled_events_ids(event_ids, N_TEST_PER_EVENT_TYPE, RANDOM_STATE)\n",
        "\n",
        "    # Get the event ids of kind STORMEVENTS_2019 by event type\n",
        "    test_samples_ids += sampled_events_ids\n",
        "\n",
        "# Assert 5 events per type have been chosen.\n",
        "assert len(set(test_samples_ids)) == N_TEST_PER_EVENT_TYPE * len(event_types)\n"
      ],
      "metadata": {
        "colab": {
          "base_uri": "https://localhost:8080/"
        },
        "id": "iGTj0Sm_etQo",
        "outputId": "81013357-4a96-4453-d78c-b0460ba4fa54"
      },
      "execution_count": 13,
      "outputs": [
        {
          "output_type": "stream",
          "name": "stdout",
          "text": [
            "Found 46 STORMEVENTS_2019 of type \"Tornado\" events matching: ir069, vil, ir107, vis\n",
            "Found 387 STORMEVENTS_2019 of type \"Thunderstorm Wind\" events matching: ir069, vil, ir107, vis\n",
            "Found 207 STORMEVENTS_2019 of type \"Hail\" events matching: ir069, vil, ir107, vis\n",
            "Found 16 STORMEVENTS_2019 of type \"Funnel Cloud\" events matching: ir069, vil, ir107, vis\n",
            "Found 58 STORMEVENTS_2019 of type \"Flash Flood\" events matching: ir069, vil, ir107, vis\n",
            "Found 21 STORMEVENTS_2019 of type \"Heavy Rain\" events matching: ir069, vil, ir107, vis\n",
            "Found 49 STORMEVENTS_2019 of type \"Flood\" events matching: ir069, vil, ir107, vis\n",
            "Found 11 STORMEVENTS_2019 of type \"Lightning\" events matching: ir069, vil, ir107, vis\n"
          ]
        }
      ]
    },
    {
      "cell_type": "code",
      "source": [
        "from typing import List\n",
        "import numpy as np\n",
        "\n",
        "def get_event_images(\n",
        "    catalog: pd.DataFrame,\n",
        "    event_ids: List[str],\n",
        "    data_type: str,\n",
        "    DATA_PATH: str\n",
        "    ) -> np.ndarray:\n",
        "    events_array = []\n",
        "    for id in event_ids:\n",
        "        # Get the row of the event.\n",
        "        sample_event = catalog.loc[\n",
        "            (catalog.id == id) & (catalog.img_type == data_type)].iloc[0]\n",
        "        # Get file name and file index.\n",
        "        file_name = sample_event.file_name\n",
        "        file_index = sample_event.file_index\n",
        "        event_type = sample_event.event_type\n",
        "\n",
        "        with h5py.File(f'{DATA_PATH}/{file_name}','r') as hf:\n",
        "            # Get the event images of the event and the data type.\n",
        "            images = np.array(hf[data_type][file_index])\n",
        "            # Scale the images by the defined scaling factor.\n",
        "            images = images * scaling_factors[data_type]\n",
        "            # Append the event images to the array of events with the event type if present.\n",
        "            if type(event_type) == str:\n",
        "                events_array.append((images, event_type))\n",
        "            else:\n",
        "                events_array.append(images)\n",
        "\n",
        "    return np.array(events_array)"
      ],
      "metadata": {
        "id": "GeHhvDbIJG7S"
      },
      "execution_count": 14,
      "outputs": []
    },
    {
      "cell_type": "markdown",
      "source": [
        "### Get train and Validation samples of `ir069`\n",
        "\n",
        "> Blocco con rientro\n",
        "\n"
      ],
      "metadata": {
        "id": "V9uyfmYw4Zle"
      }
    },
    {
      "cell_type": "code",
      "source": [
        "import os\n",
        "import numpy as np\n",
        "\n",
        "!rm -r ./data\n",
        "\n",
        "sync_s3_bucket(BUCKET_NAME, LOCAL_DIRECTORY, 'IR069_RANDOMEVENTS_2018')\n",
        "\n",
        "!du -sh ./data\n",
        "\n",
        "os.makedirs('./sevir', exist_ok=True)\n",
        "\n",
        "# Get train samples.\n",
        "ir069_train_samples = get_event_images(catalog, train_samples_ids, 'ir069', DATA_PATH)\n",
        "np.save('./sevir/ir069_train_samples.npy', ir069_train_samples)\n",
        "\n",
        "# Get validation samples.\n",
        "ir069_val_samples = get_event_images(catalog, val_samples_ids, 'ir069', DATA_PATH)\n",
        "np.save('./sevir/ir069_val_samples.npy', ir069_val_samples)"
      ],
      "metadata": {
        "colab": {
          "base_uri": "https://localhost:8080/"
        },
        "id": "8iIf9TsnXKN8",
        "outputId": "2edff8b7-0dc9-4817-8bc1-7616a2e8b209"
      },
      "execution_count": 15,
      "outputs": [
        {
          "output_type": "stream",
          "name": "stdout",
          "text": [
            "rm: cannot remove './data': No such file or directory\n",
            "s3.ObjectSummary(bucket_name='sevir', key='data/ir069/2018/SEVIR_IR069_RANDOMEVENTS_2018_0101_0430.h5')\n",
            "s3.ObjectSummary(bucket_name='sevir', key='data/ir069/2018/SEVIR_IR069_RANDOMEVENTS_2018_0501_0831.h5')\n",
            "s3.ObjectSummary(bucket_name='sevir', key='data/ir069/2018/SEVIR_IR069_RANDOMEVENTS_2018_0901_1231.h5')\n",
            "17G\t./data\n"
          ]
        }
      ]
    },
    {
      "cell_type": "markdown",
      "source": [
        "### Get train and Validation samples of `ir107`"
      ],
      "metadata": {
        "id": "iD9kJkN64rJl"
      }
    },
    {
      "cell_type": "code",
      "source": [
        "import os\n",
        "import numpy as np\n",
        "\n",
        "!rm -r ./data\n",
        "\n",
        "sync_s3_bucket(BUCKET_NAME, LOCAL_DIRECTORY, 'IR107_RANDOMEVENTS_2018')\n",
        "\n",
        "!du -sh ./data\n",
        "\n",
        "os.makedirs('./sevir', exist_ok=True)\n",
        "\n",
        "# Get train samples.\n",
        "ir107_train_samples = get_event_images(catalog, train_samples_ids, 'ir107', DATA_PATH)\n",
        "np.save('./sevir/ir107_train_samples.npy', ir107_train_samples)\n",
        "\n",
        "# Get validation samples.\n",
        "ir107_val_samples = get_event_images(catalog, val_samples_ids, 'ir107', DATA_PATH)\n",
        "np.save('./sevir/ir107_val_samples.npy', ir107_val_samples)"
      ],
      "metadata": {
        "colab": {
          "base_uri": "https://localhost:8080/"
        },
        "id": "S6eF1BGa41gT",
        "outputId": "6c763f06-fc2e-4455-d615-ae507838b45d"
      },
      "execution_count": 16,
      "outputs": [
        {
          "output_type": "stream",
          "name": "stdout",
          "text": [
            "s3.ObjectSummary(bucket_name='sevir', key='data/ir107/2018/SEVIR_IR107_RANDOMEVENTS_2018_0101_0430.h5')\n",
            "s3.ObjectSummary(bucket_name='sevir', key='data/ir107/2018/SEVIR_IR107_RANDOMEVENTS_2018_0501_0831.h5')\n",
            "s3.ObjectSummary(bucket_name='sevir', key='data/ir107/2018/SEVIR_IR107_RANDOMEVENTS_2018_0901_1231.h5')\n",
            "17G\t./data\n"
          ]
        }
      ]
    },
    {
      "cell_type": "markdown",
      "source": [
        "### Get train and Validation samples of `vil`"
      ],
      "metadata": {
        "id": "SlOKBLKT4vQm"
      }
    },
    {
      "cell_type": "code",
      "source": [
        "import os\n",
        "import numpy as np\n",
        "\n",
        "!rm -r ./data\n",
        "\n",
        "sync_s3_bucket(BUCKET_NAME, LOCAL_DIRECTORY, 'VIL_RANDOMEVENTS_2018')\n",
        "\n",
        "!du -sh ./data\n",
        "\n",
        "os.makedirs('./sevir', exist_ok=True)\n",
        "\n",
        "# Get train samples.\n",
        "vil_train_samples = get_event_images(catalog, train_samples_ids, 'vil', DATA_PATH)\n",
        "np.save('./sevir/vil_train_samples.npy', vil_train_samples)\n",
        "\n",
        "# Get validation samples.\n",
        "vil_val_samples = get_event_images(catalog, val_samples_ids, 'vil', DATA_PATH)\n",
        "np.save('./sevir/vil_val_samples.npy', vil_val_samples)"
      ],
      "metadata": {
        "colab": {
          "base_uri": "https://localhost:8080/"
        },
        "id": "XCNFkinm41yt",
        "outputId": "b12941be-84cd-4237-98f7-25bc05c2fba4"
      },
      "execution_count": 17,
      "outputs": [
        {
          "output_type": "stream",
          "name": "stdout",
          "text": [
            "s3.ObjectSummary(bucket_name='sevir', key='data/vil/2018/SEVIR_VIL_RANDOMEVENTS_2018_0101_0430.h5')\n",
            "s3.ObjectSummary(bucket_name='sevir', key='data/vil/2018/SEVIR_VIL_RANDOMEVENTS_2018_0501_0831.h5')\n",
            "s3.ObjectSummary(bucket_name='sevir', key='data/vil/2018/SEVIR_VIL_RANDOMEVENTS_2018_0901_1231.h5')\n",
            "43G\t./data\n"
          ]
        }
      ]
    },
    {
      "cell_type": "markdown",
      "source": [
        "### Get train and Validation samples of `vis`"
      ],
      "metadata": {
        "id": "8_10cw474wSs"
      }
    },
    {
      "cell_type": "code",
      "source": [
        "'''import os\n",
        "import numpy as np\n",
        "\n",
        "!rm -r ./data\n",
        "\n",
        "sync_s3_bucket(BUCKET_NAME, LOCAL_DIRECTORY, 'VIS_RANDOMEVENTS_2018')\n",
        "\n",
        "!du -sh ./data\n",
        "\n",
        "os.makedirs('./sevir', exist_ok=True)\n",
        "\n",
        "# Get train samples.\n",
        "vis_train_samples = get_event_images(catalog, train_samples_ids, 'vis', DATA_PATH)\n",
        "np.save('./sevir/vis_train_samples.npy', vis_train_samples)\n",
        "\n",
        "# Get validation samples.\n",
        "vis_val_samples = get_event_images(catalog, val_samples_ids, 'vis', DATA_PATH)\n",
        "np.save('./sevir/vis_val_samples.npy', vis_val_samples)''';"
      ],
      "metadata": {
        "id": "DVmSjqhvShKg"
      },
      "execution_count": 18,
      "outputs": []
    },
    {
      "cell_type": "code",
      "source": [
        "#!du -sh ./data"
      ],
      "metadata": {
        "id": "07q4Sg_IXMGn"
      },
      "execution_count": 19,
      "outputs": []
    },
    {
      "cell_type": "code",
      "source": [
        "'''import numpy as np\n",
        "\n",
        "os.makedirs('./sevir', exist_ok=True)\n",
        "\n",
        "# Get train samples.\n",
        "ir069_train_samples = get_event_images(catalog, train_samples_ids, 'ir069', DATA_PATH)\n",
        "np.save('./sevir/ir069_train_samples.npy', ir069_train_samples)\n",
        "\n",
        "ir107_train_samples = get_event_images(catalog, train_samples_ids, 'ir107', DATA_PATH)\n",
        "np.save('./sevir/ir107_train_samples.npy', ir107_train_samples)\n",
        "\n",
        "vis_train_samples = get_event_images(catalog, train_samples_ids, 'vis', DATA_PATH)\n",
        "np.save('./sevir/vis_train_samples.npy', vis_train_samples)\n",
        "\n",
        "vil_train_samples = get_event_images(catalog, train_samples_ids, 'vil', DATA_PATH)\n",
        "np.save('./sevir/vil_train_samples.npy', vil_train_samples)\n",
        "\n",
        "# Get validation samples.\n",
        "ir069_val_samples = get_event_images(catalog, val_samples_ids, 'ir069', DATA_PATH)\n",
        "np.save('./sevir/ir069_val_samples.npy', ir069_val_samples)\n",
        "\n",
        "ir107_val_samples = get_event_images(catalog, val_samples_ids, 'ir107', DATA_PATH)\n",
        "np.save('./sevir/ir107_val_samples.npy', ir107_val_samples)\n",
        "\n",
        "vis_val_samples = get_event_images(catalog, val_samples_ids, 'vis', DATA_PATH)\n",
        "np.save('./sevir/vis_val_samples.npy', vis_val_samples)\n",
        "\n",
        "vil_val_samples = get_event_images(catalog, val_samples_ids, 'vil', DATA_PATH)\n",
        "np.save('./sevir/vil_val_samples.npy', vil_val_samples)''';"
      ],
      "metadata": {
        "id": "mPVf0dTJJG4l"
      },
      "execution_count": 20,
      "outputs": []
    },
    {
      "cell_type": "code",
      "source": [
        "!rm -r ./data"
      ],
      "metadata": {
        "id": "mHuolzK6eRSA"
      },
      "execution_count": 21,
      "outputs": []
    },
    {
      "cell_type": "code",
      "source": [
        "sync_s3_bucket(BUCKET_NAME, LOCAL_DIRECTORY, 'STORMEVENTS_2019')"
      ],
      "metadata": {
        "colab": {
          "base_uri": "https://localhost:8080/"
        },
        "id": "VV9oxzh9eTTj",
        "outputId": "75dba214-9e9c-4acc-96ec-f2a5c38e8604"
      },
      "execution_count": 22,
      "outputs": [
        {
          "output_type": "stream",
          "name": "stdout",
          "text": [
            "s3.ObjectSummary(bucket_name='sevir', key='data/ir069/2019/SEVIR_IR069_STORMEVENTS_2019_0101_0630.h5')\n",
            "s3.ObjectSummary(bucket_name='sevir', key='data/ir069/2019/SEVIR_IR069_STORMEVENTS_2019_0701_1231.h5')\n",
            "s3.ObjectSummary(bucket_name='sevir', key='data/ir107/2019/SEVIR_IR107_STORMEVENTS_2019_0101_0630.h5')\n",
            "s3.ObjectSummary(bucket_name='sevir', key='data/ir107/2019/SEVIR_IR107_STORMEVENTS_2019_0701_1231.h5')\n",
            "s3.ObjectSummary(bucket_name='sevir', key='data/vil/2019/SEVIR_VIL_STORMEVENTS_2019_0101_0630.h5')\n",
            "s3.ObjectSummary(bucket_name='sevir', key='data/vil/2019/SEVIR_VIL_STORMEVENTS_2019_0701_1231.h5')\n",
            "s3.ObjectSummary(bucket_name='sevir', key='data/vis/2019/SEVIR_VIS_STORMEVENTS_2019_0101_0131.h5')\n",
            "s3.ObjectSummary(bucket_name='sevir', key='data/vis/2019/SEVIR_VIS_STORMEVENTS_2019_0201_0228.h5')\n",
            "s3.ObjectSummary(bucket_name='sevir', key='data/vis/2019/SEVIR_VIS_STORMEVENTS_2019_0301_0331.h5')\n",
            "s3.ObjectSummary(bucket_name='sevir', key='data/vis/2019/SEVIR_VIS_STORMEVENTS_2019_0401_0430.h5')\n",
            "s3.ObjectSummary(bucket_name='sevir', key='data/vis/2019/SEVIR_VIS_STORMEVENTS_2019_0501_0531.h5')\n",
            "s3.ObjectSummary(bucket_name='sevir', key='data/vis/2019/SEVIR_VIS_STORMEVENTS_2019_0601_0630.h5')\n",
            "s3.ObjectSummary(bucket_name='sevir', key='data/vis/2019/SEVIR_VIS_STORMEVENTS_2019_0701_0731.h5')\n",
            "s3.ObjectSummary(bucket_name='sevir', key='data/vis/2019/SEVIR_VIS_STORMEVENTS_2019_0801_0831.h5')\n",
            "s3.ObjectSummary(bucket_name='sevir', key='data/vis/2019/SEVIR_VIS_STORMEVENTS_2019_0901_0930.h5')\n"
          ]
        }
      ]
    },
    {
      "cell_type": "code",
      "source": [
        "!du -sh ./data"
      ],
      "metadata": {
        "colab": {
          "base_uri": "https://localhost:8080/"
        },
        "id": "Jx5nvMleeVTw",
        "outputId": "4ef8b880-298e-4c34-e8a8-85743200e78b"
      },
      "execution_count": 23,
      "outputs": [
        {
          "output_type": "stream",
          "name": "stdout",
          "text": [
            "95G\t./data\n"
          ]
        }
      ]
    },
    {
      "cell_type": "code",
      "execution_count": 24,
      "metadata": {
        "colab": {
          "base_uri": "https://localhost:8080/"
        },
        "id": "WJ_Iz-_lakBK",
        "outputId": "25cf0510-ba31-4a1e-964f-897691202d05"
      },
      "outputs": [
        {
          "output_type": "stream",
          "name": "stderr",
          "text": [
            "<ipython-input-14-42469b9159a8>:31: VisibleDeprecationWarning: Creating an ndarray from ragged nested sequences (which is a list-or-tuple of lists-or-tuples-or ndarrays with different lengths or shapes) is deprecated. If you meant to do this, you must specify 'dtype=object' when creating the ndarray.\n",
            "  return np.array(events_array)\n"
          ]
        }
      ],
      "source": [
        "import os\n",
        "import numpy as np\n",
        "\n",
        "os.makedirs('./sevir', exist_ok=True)\n",
        "\n",
        "# Get and save the test samples.\n",
        "ir069_test_samples = get_event_images(catalog, test_samples_ids, 'ir069', DATA_PATH)\n",
        "np.save('./sevir/ir069_test_samples.npy', ir069_test_samples)\n",
        "\n",
        "ir107_test_samples = get_event_images(catalog, test_samples_ids, 'ir107', DATA_PATH)\n",
        "np.save('./sevir/ir107_test_samples.npy', ir107_test_samples)\n",
        "\n",
        "#vis_test_samples = get_event_images(catalog, test_samples_ids, 'vis', DATA_PATH)\n",
        "#np.save('./sevir/vis_test_samples.npy', vis_test_samples)\n",
        "\n",
        "vil_test_samples = get_event_images(catalog, test_samples_ids, 'vil', DATA_PATH)\n",
        "np.save('./sevir/vil_test_samples.npy', vil_test_samples)\n"
      ]
    },
    {
      "cell_type": "code",
      "source": [
        "import numpy as np\n",
        "\n",
        "class Scaler():\n",
        "    def __init__(self, dataset: np.ndarray) -> None:\n",
        "        self.min = dataset.min()\n",
        "        self.max = dataset.max()\n",
        "\n",
        "    def scale(self, array: np.ndarray) -> np.ndarray:\n",
        "        return .5 - (array - self.min) / (self.max - self.min)\n",
        "\n",
        "    def unscale(self, array: np.ndarray) -> np.ndarray:\n",
        "        return ((.5 - array) * (self.max - self.min)) + self.min"
      ],
      "metadata": {
        "id": "ZLFx7I-oeJgR"
      },
      "execution_count": 25,
      "outputs": []
    },
    {
      "cell_type": "code",
      "source": [
        "ir_069_scaler = Scaler(ir069_train_samples)\n",
        "ir_107_scaler = Scaler(ir107_train_samples)\n",
        "vil_scaler = Scaler(vil_train_samples)"
      ],
      "metadata": {
        "id": "M_quXj3CeMeQ"
      },
      "execution_count": 26,
      "outputs": []
    },
    {
      "cell_type": "code",
      "source": [
        "import pickle\n",
        "import os\n",
        "\n",
        "os.makedirs('./scaler', exist_ok=True)\n",
        "\n",
        "# Save the scalers fit on the train data.\n",
        "with open('./scaler/ir069.pickle', 'wb') as f:\n",
        "    pickle.dump(ir_069_scaler, f, pickle.HIGHEST_PROTOCOL)\n",
        "\n",
        "with open('./scaler/ir107.pickle', 'wb') as f:\n",
        "    pickle.dump(ir_107_scaler, f, pickle.HIGHEST_PROTOCOL)\n",
        "\n",
        "with open('./scaler/vil.pickle', 'wb') as f:\n",
        "    pickle.dump(vil_scaler, f, pickle.HIGHEST_PROTOCOL)"
      ],
      "metadata": {
        "id": "60pI3BZueSik"
      },
      "execution_count": 27,
      "outputs": []
    },
    {
      "cell_type": "code",
      "source": [
        "import os\n",
        "import wandb\n",
        "\n",
        "wandb.login(key='d3d31786e16c5dffe9ee01690d0bb069cac55e84')"
      ],
      "metadata": {
        "id": "7uKwe8a4UKkk",
        "colab": {
          "base_uri": "https://localhost:8080/"
        },
        "outputId": "de01de4f-1022-4cc6-dcad-b7d2d640f76e"
      },
      "execution_count": 28,
      "outputs": [
        {
          "output_type": "stream",
          "name": "stderr",
          "text": [
            "\u001b[34m\u001b[1mwandb\u001b[0m: W&B API key is configured. Use \u001b[1m`wandb login --relogin`\u001b[0m to force relogin\n",
            "\u001b[34m\u001b[1mwandb\u001b[0m: \u001b[33mWARNING\u001b[0m If you're specifying your api key in code, ensure this code is not shared publicly.\n",
            "\u001b[34m\u001b[1mwandb\u001b[0m: \u001b[33mWARNING\u001b[0m Consider setting the WANDB_API_KEY environment variable, or running `wandb login` from the command line.\n",
            "\u001b[34m\u001b[1mwandb\u001b[0m: Appending key for api.wandb.ai to your netrc file: /root/.netrc\n"
          ]
        },
        {
          "output_type": "execute_result",
          "data": {
            "text/plain": [
              "True"
            ]
          },
          "metadata": {},
          "execution_count": 28
        }
      ]
    },
    {
      "cell_type": "code",
      "source": [
        "run = wandb.init(project=\"sevir\", job_type=\"add-dataset\")\n",
        "artifact = wandb.Artifact(name=\"SEVIR\", type=\"dataset\")\n",
        "\n",
        "# Add dataset directories to artifact\n",
        "artifact.add_dir(local_path=\"./sevir\")\n",
        "\n",
        "# Logs the artifact version\n",
        "run.log_artifact(artifact)\n",
        "\n",
        "run.finish()"
      ],
      "metadata": {
        "colab": {
          "base_uri": "https://localhost:8080/"
        },
        "id": "1383CyY7kCT4",
        "outputId": "a1b3790b-85d4-4379-abf1-73d38aa8f79e"
      },
      "execution_count": 29,
      "outputs": [
        {
          "output_type": "stream",
          "name": "stderr",
          "text": [
            "\u001b[34m\u001b[1mwandb\u001b[0m: Currently logged in as: \u001b[33mriccardo-spolaor94\u001b[0m (\u001b[33mai-industry\u001b[0m). Use \u001b[1m`wandb login --relogin`\u001b[0m to force relogin\n",
            "\u001b[34m\u001b[1mwandb\u001b[0m: Tracking run with wandb version 0.15.10\n",
            "\u001b[34m\u001b[1mwandb\u001b[0m: Run data is saved locally in \u001b[35m\u001b[1m/content/wandb/run-20230917_162557-33hfqozb\u001b[0m\n",
            "\u001b[34m\u001b[1mwandb\u001b[0m: Run \u001b[1m`wandb offline`\u001b[0m to turn off syncing.\n",
            "\u001b[34m\u001b[1mwandb\u001b[0m: Syncing run \u001b[33mwoven-sunset-4\u001b[0m\n",
            "\u001b[34m\u001b[1mwandb\u001b[0m: ⭐️ View project at \u001b[34m\u001b[4mhttps://wandb.ai/ai-industry/sevir\u001b[0m\n",
            "\u001b[34m\u001b[1mwandb\u001b[0m: 🚀 View run at \u001b[34m\u001b[4mhttps://wandb.ai/ai-industry/sevir/runs/33hfqozb\u001b[0m\n",
            "\u001b[34m\u001b[1mwandb\u001b[0m: Adding directory to artifact (./sevir)... Done. 350.8s\n",
            "\u001b[34m\u001b[1mwandb\u001b[0m: Waiting for W&B process to finish... \u001b[32m(success).\u001b[0m\n",
            "\u001b[34m\u001b[1mwandb\u001b[0m: 🚀 View run \u001b[33mwoven-sunset-4\u001b[0m at: \u001b[34m\u001b[4mhttps://wandb.ai/ai-industry/sevir/runs/33hfqozb\u001b[0m\n",
            "\u001b[34m\u001b[1mwandb\u001b[0m: Synced 5 W&B file(s), 0 media file(s), 9 artifact file(s) and 0 other file(s)\n",
            "\u001b[34m\u001b[1mwandb\u001b[0m: Find logs at: \u001b[35m\u001b[1m./wandb/run-20230917_162557-33hfqozb/logs\u001b[0m\n"
          ]
        }
      ]
    },
    {
      "cell_type": "code",
      "source": [
        "run = wandb.init(project=\"sevir\", job_type=\"add-scalers\")\n",
        "artifact = wandb.Artifact(name=\"scalers\", type=\"pickle\")\n",
        "\n",
        "# Add scaler directory to artifact\n",
        "artifact.add_dir(local_path=\"./scaler\")\n",
        "\n",
        "# Logs the artifact version\n",
        "run.log_artifact(artifact)\n",
        "\n",
        "run.finish()"
      ],
      "metadata": {
        "colab": {
          "base_uri": "https://localhost:8080/"
        },
        "id": "ZNXfjD9Seaax",
        "outputId": "d12a25d0-054d-4176-bda9-8075e862a18c"
      },
      "execution_count": 30,
      "outputs": [
        {
          "output_type": "stream",
          "name": "stderr",
          "text": [
            "\u001b[34m\u001b[1mwandb\u001b[0m: Tracking run with wandb version 0.15.10\n",
            "\u001b[34m\u001b[1mwandb\u001b[0m: Run data is saved locally in \u001b[35m\u001b[1m/content/wandb/run-20230917_163813-35imscqs\u001b[0m\n",
            "\u001b[34m\u001b[1mwandb\u001b[0m: Run \u001b[1m`wandb offline`\u001b[0m to turn off syncing.\n",
            "\u001b[34m\u001b[1mwandb\u001b[0m: Syncing run \u001b[33mdutiful-field-5\u001b[0m\n",
            "\u001b[34m\u001b[1mwandb\u001b[0m: ⭐️ View project at \u001b[34m\u001b[4mhttps://wandb.ai/ai-industry/sevir\u001b[0m\n",
            "\u001b[34m\u001b[1mwandb\u001b[0m: 🚀 View run at \u001b[34m\u001b[4mhttps://wandb.ai/ai-industry/sevir/runs/35imscqs\u001b[0m\n",
            "\u001b[34m\u001b[1mwandb\u001b[0m: Adding directory to artifact (./scaler)... Done. 0.0s\n",
            "\u001b[34m\u001b[1mwandb\u001b[0m: Waiting for W&B process to finish... \u001b[32m(success).\u001b[0m\n",
            "\u001b[34m\u001b[1mwandb\u001b[0m: 🚀 View run \u001b[33mdutiful-field-5\u001b[0m at: \u001b[34m\u001b[4mhttps://wandb.ai/ai-industry/sevir/runs/35imscqs\u001b[0m\n",
            "\u001b[34m\u001b[1mwandb\u001b[0m: Synced 5 W&B file(s), 0 media file(s), 3 artifact file(s) and 0 other file(s)\n",
            "\u001b[34m\u001b[1mwandb\u001b[0m: Find logs at: \u001b[35m\u001b[1m./wandb/run-20230917_163813-35imscqs/logs\u001b[0m\n"
          ]
        }
      ]
    }
  ],
  "metadata": {
    "colab": {
      "provenance": []
    },
    "kernelspec": {
      "display_name": "Python 3",
      "name": "python3"
    },
    "language_info": {
      "name": "python"
    }
  },
  "nbformat": 4,
  "nbformat_minor": 0
}
