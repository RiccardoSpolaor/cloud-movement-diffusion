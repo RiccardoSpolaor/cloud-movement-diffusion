{
 "cells": [
  {
   "attachments": {},
   "cell_type": "markdown",
   "metadata": {
    "id": "592KgIBCtbxt"
   },
   "source": [
    "# Dataset"
   ]
  },
  {
   "cell_type": "code",
   "execution_count": 1,
   "metadata": {
    "id": "xn_pBvNhtbxv"
   },
   "outputs": [],
   "source": [
    "from pathlib import Path\n",
    "\n",
    "def ls(path: Path): \n",
    "    \"Return files on Path, sorted\"\n",
    "    return sorted(list(path.iterdir()))"
   ]
  },
  {
   "cell_type": "code",
   "execution_count": 2,
   "metadata": {
    "colab": {
     "base_uri": "https://localhost:8080/"
    },
    "id": "FsmkDobltqUd",
    "outputId": "4143b299-8d85-4344-e790-b7f154cb5eda"
   },
   "outputs": [
    {
     "name": "stdout",
     "output_type": "stream",
     "text": [
      "\u001b[33mWARNING: Running pip as the 'root' user can result in broken permissions and conflicting behaviour with the system package manager. It is recommended to use a virtual environment instead: https://pip.pypa.io/warnings/venv\u001b[0m\u001b[33m\n",
      "\u001b[0m\n",
      "\u001b[1m[\u001b[0m\u001b[34;49mnotice\u001b[0m\u001b[1;39;49m]\u001b[0m\u001b[39;49m A new release of pip is available: \u001b[0m\u001b[31;49m23.0.1\u001b[0m\u001b[39;49m -> \u001b[0m\u001b[32;49m23.1.2\u001b[0m\n",
      "\u001b[1m[\u001b[0m\u001b[34;49mnotice\u001b[0m\u001b[1;39;49m]\u001b[0m\u001b[39;49m To update, run: \u001b[0m\u001b[32;49mpython -m pip install --upgrade pip\u001b[0m\n"
     ]
    }
   ],
   "source": [
    "!pip install -q wandb tqdm matplotlib"
   ]
  },
  {
   "cell_type": "code",
   "execution_count": 3,
   "metadata": {},
   "outputs": [
    {
     "name": "stderr",
     "output_type": "stream",
     "text": [
      "\u001b[34m\u001b[1mwandb\u001b[0m: \u001b[33mWARNING\u001b[0m If you're specifying your api key in code, ensure this code is not shared publicly.\n",
      "\u001b[34m\u001b[1mwandb\u001b[0m: \u001b[33mWARNING\u001b[0m Consider setting the WANDB_API_KEY environment variable, or running `wandb login` from the command line.\n",
      "\u001b[34m\u001b[1mwandb\u001b[0m: Appending key for api.wandb.ai to your netrc file: /root/.netrc\n"
     ]
    },
    {
     "data": {
      "text/plain": [
       "True"
      ]
     },
     "execution_count": 3,
     "metadata": {},
     "output_type": "execute_result"
    }
   ],
   "source": [
    "import wandb\n",
    "wandb.login(key='6b22cbf359c5924f4500afc1ae572d6827998186', relogin=True, force=True)"
   ]
  },
  {
   "cell_type": "code",
   "execution_count": 4,
   "metadata": {
    "id": "Qzo4ppMBtbxx"
   },
   "outputs": [],
   "source": [
    "from pathlib import Path\n",
    "\n",
    "import numpy as np\n",
    "import torch\n",
    "import torchvision.transforms as T\n",
    "import wandb\n",
    "from tqdm import tqdm as progress_bar\n",
    "\n",
    "# from cloud_diffusion.utils import ls\n",
    "\n",
    "PROJECT_NAME = \"cloud_diffusion\"\n",
    "DATASET_ARTIFACT = 'maidacundo/cloud_diffusion/sample_dataset:v0'\n",
    "\n",
    "class DummyNextFrameDataset:\n",
    "    \"Dataset that returns random images\"\n",
    "    def __init__(self, num_frames=4, img_size=64, N=1000):\n",
    "        self.img_size = img_size\n",
    "        self.num_frames = num_frames\n",
    "        self.N = N\n",
    "\n",
    "    def __getitem__(self, idx):\n",
    "        return torch.randn(self.num_frames, self.img_size, self.img_size)\n",
    "    \n",
    "    def __len__(self):\n",
    "        return self.N\n",
    "\n",
    "\n",
    "class CloudDataset:\n",
    "    \"\"\"Dataset for cloud images\n",
    "    It loads numpy files from wandb artifact and stacks them into a single array\n",
    "    It also applies some transformations to the images\n",
    "    \"\"\"\n",
    "    def __init__(self, \n",
    "                 files, # list of numpy files to load (they come from the artifact)\n",
    "                 num_frames=4, # how many consecutive frames to stack\n",
    "                 scale=True, # if we images to interval [-0.5, 0.5]\n",
    "                 img_size=64, # resize dim, original images are big (446, 780)\n",
    "                 valid=False, # if True, transforms are deterministic\n",
    "                ):\n",
    "        \n",
    "        tfms = [T.Resize((img_size, int(img_size*1.7)), antialias=True)] if img_size is not None else []\n",
    "        tfms += [T.RandomCrop(img_size)] if not valid else [T.CenterCrop(img_size)]\n",
    "        self.tfms = T.Compose(tfms)\n",
    "        self.load_data(files, num_frames, scale)\n",
    "        \n",
    "    def load_day(self, file, scale=True):\n",
    "        one_day = np.load(file)\n",
    "        one_day = one_day.astype('float32')\n",
    "        if scale:\n",
    "            one_day = 0.5 - self._scale(one_day)\n",
    "        return one_day\n",
    "\n",
    "    def load_data(self, files, num_frames, scale):\n",
    "        \"Loads all data into a single array self.data\"\n",
    "        data = []\n",
    "        # TODO: download all files\n",
    "        for file in progress_bar(files, leave=False):\n",
    "            one_day = self.load_day(file, scale)\n",
    "            wds = np.lib.stride_tricks.sliding_window_view(\n",
    "                one_day.squeeze(),\n",
    "                num_frames,\n",
    "                axis=0).transpose((0,3,1,2))\n",
    "            data.append(wds)\n",
    "            # pbar.comment = f\"Creating CloudDataset from {file}\"\n",
    "        self.data = np.concatenate(data, axis=0)\n",
    "\n",
    "    def shuffle(self):\n",
    "        \"\"\"Shuffles the dataset, useful for getting \n",
    "        interesting samples on the validation dataset\"\"\"\n",
    "        idxs = torch.randperm(len(self.data))\n",
    "        self.data = self.data[idxs]\n",
    "        return self\n",
    "\n",
    "    @staticmethod\n",
    "    def _scale(arr):\n",
    "        \"Scales values of array in [0,1]\"\n",
    "        m, M = arr.min(), arr.max()\n",
    "        return (arr - m) / (M - m)\n",
    "    \n",
    "    def __getitem__(self, idx):\n",
    "        return self.tfms(torch.from_numpy(self.data[idx]))\n",
    "    \n",
    "    def __len__(self): return len(self.data)\n",
    "\n",
    "    def save(self, fname=\"cloud_frames.npy\"):\n",
    "        np.save(fname, self.data)\n",
    "\n",
    "\n",
    "class CloudDatasetInference(CloudDataset):\n",
    "     def load_data(self, files, num_frames=None, scale=None):\n",
    "        \"Loads all data into a single array self.data\"\n",
    "        data = []\n",
    "        max_length = 100\n",
    "        # TODO: download everything\n",
    "        for file in files:\n",
    "            one_day = self.load_day(file, scale)\n",
    "            data.append(one_day)\n",
    "            max_length = min(max_length, len(one_day))\n",
    "        self.data = np.stack([d[:max_length] for d in data], axis=0).squeeze()\n",
    "\n",
    "\n",
    "def download_dataset(at_name, project_name):\n",
    "    \"Downloads dataset from wandb artifact\"\n",
    "    def _get_dataset(run):\n",
    "        artifact = run.use_artifact(at_name, type='dataset')\n",
    "        return artifact.download()\n",
    "\n",
    "    if wandb.run is not None:\n",
    "        run = wandb.run\n",
    "        artifact_dir = _get_dataset(run)\n",
    "    else:\n",
    "        run = wandb.init(project=project_name, job_type=\"download_dataset\")\n",
    "        artifact_dir = _get_dataset(run)\n",
    "        run.finish()\n",
    "\n",
    "    files = ls(Path(artifact_dir))\n",
    "    return files\n"
   ]
  },
  {
   "cell_type": "code",
   "execution_count": 5,
   "metadata": {
    "colab": {
     "base_uri": "https://localhost:8080/",
     "height": 315
    },
    "id": "IT1ZhhDFtbx0",
    "outputId": "3ed5b231-6c5e-42e9-c056-e7f13ce4c7c1"
   },
   "outputs": [
    {
     "name": "stderr",
     "output_type": "stream",
     "text": [
      "\u001b[34m\u001b[1mwandb\u001b[0m: Currently logged in as: \u001b[33mmaidacundo\u001b[0m. Use \u001b[1m`wandb login --relogin`\u001b[0m to force relogin\n"
     ]
    },
    {
     "data": {
      "text/html": [
       "Tracking run with wandb version 0.15.3"
      ],
      "text/plain": [
       "<IPython.core.display.HTML object>"
      ]
     },
     "metadata": {},
     "output_type": "display_data"
    },
    {
     "data": {
      "text/html": [
       "Run data is saved locally in <code>/workspace/wandb/run-20230525_203259-j5quy62o</code>"
      ],
      "text/plain": [
       "<IPython.core.display.HTML object>"
      ]
     },
     "metadata": {},
     "output_type": "display_data"
    },
    {
     "data": {
      "text/html": [
       "Syncing run <strong><a href='https://wandb.ai/maidacundo/cloud_diffusion/runs/j5quy62o' target=\"_blank\">glorious-aardvark-11</a></strong> to <a href='https://wandb.ai/maidacundo/cloud_diffusion' target=\"_blank\">Weights & Biases</a> (<a href='https://wandb.me/run' target=\"_blank\">docs</a>)<br/>"
      ],
      "text/plain": [
       "<IPython.core.display.HTML object>"
      ]
     },
     "metadata": {},
     "output_type": "display_data"
    },
    {
     "data": {
      "text/html": [
       " View project at <a href='https://wandb.ai/maidacundo/cloud_diffusion' target=\"_blank\">https://wandb.ai/maidacundo/cloud_diffusion</a>"
      ],
      "text/plain": [
       "<IPython.core.display.HTML object>"
      ]
     },
     "metadata": {},
     "output_type": "display_data"
    },
    {
     "data": {
      "text/html": [
       " View run at <a href='https://wandb.ai/maidacundo/cloud_diffusion/runs/j5quy62o' target=\"_blank\">https://wandb.ai/maidacundo/cloud_diffusion/runs/j5quy62o</a>"
      ],
      "text/plain": [
       "<IPython.core.display.HTML object>"
      ]
     },
     "metadata": {},
     "output_type": "display_data"
    },
    {
     "name": "stderr",
     "output_type": "stream",
     "text": [
      "\u001b[34m\u001b[1mwandb\u001b[0m: Downloading large artifact sample_dataset:v0, 360.00MB. 30 files... \n",
      "\u001b[34m\u001b[1mwandb\u001b[0m:   30 of 30 files downloaded.  \n",
      "Done. 0:0:0.7\n"
     ]
    },
    {
     "data": {
      "text/html": [
       "Waiting for W&B process to finish... <strong style=\"color:green\">(success).</strong>"
      ],
      "text/plain": [
       "<IPython.core.display.HTML object>"
      ]
     },
     "metadata": {},
     "output_type": "display_data"
    },
    {
     "data": {
      "application/vnd.jupyter.widget-view+json": {
       "model_id": "d92a8fa8b24143f8a771fdfe5519bf03",
       "version_major": 2,
       "version_minor": 0
      },
      "text/plain": [
       "VBox(children=(Label(value='0.002 MB of 0.002 MB uploaded (0.000 MB deduped)\\r'), FloatProgress(value=1.0, max…"
      ]
     },
     "metadata": {},
     "output_type": "display_data"
    },
    {
     "data": {
      "text/html": [
       " View run <strong style=\"color:#cdcd00\">glorious-aardvark-11</strong> at: <a href='https://wandb.ai/maidacundo/cloud_diffusion/runs/j5quy62o' target=\"_blank\">https://wandb.ai/maidacundo/cloud_diffusion/runs/j5quy62o</a><br/>Synced 5 W&B file(s), 0 media file(s), 0 artifact file(s) and 0 other file(s)"
      ],
      "text/plain": [
       "<IPython.core.display.HTML object>"
      ]
     },
     "metadata": {},
     "output_type": "display_data"
    },
    {
     "data": {
      "text/html": [
       "Find logs at: <code>./wandb/run-20230525_203259-j5quy62o/logs</code>"
      ],
      "text/plain": [
       "<IPython.core.display.HTML object>"
      ]
     },
     "metadata": {},
     "output_type": "display_data"
    },
    {
     "name": "stderr",
     "output_type": "stream",
     "text": [
      "                                               \r"
     ]
    },
    {
     "name": "stdout",
     "output_type": "stream",
     "text": [
      "Let's grab 5 samples: torch.Size([5, 4, 64, 64])\n"
     ]
    }
   ],
   "source": [
    "files = download_dataset(DATASET_ARTIFACT, project_name=PROJECT_NAME)\n",
    "train_ds = CloudDataset(files)\n",
    "print(f\"Let's grab 5 samples: {train_ds[0:5].shape}\")"
   ]
  },
  {
   "cell_type": "code",
   "execution_count": 6,
   "metadata": {
    "colab": {
     "base_uri": "https://localhost:8080/"
    },
    "id": "H7dLIET0tbx0",
    "outputId": "714928ed-7896-4c67-c1f8-5fede68a945c"
   },
   "outputs": [
    {
     "data": {
      "text/plain": [
       "torch.Size([4, 64, 64])"
      ]
     },
     "execution_count": 6,
     "metadata": {},
     "output_type": "execute_result"
    }
   ],
   "source": [
    "train_ds[0].shape"
   ]
  },
  {
   "cell_type": "code",
   "execution_count": 7,
   "metadata": {
    "colab": {
     "base_uri": "https://localhost:8080/",
     "height": 449
    },
    "id": "wwL8jtPAtbx1",
    "outputId": "98eb9f0e-f40c-4d70-974d-3c545cdd3901"
   },
   "outputs": [
    {
     "data": {
      "text/plain": [
       "<matplotlib.image.AxesImage at 0x7fb893cb3010>"
      ]
     },
     "execution_count": 7,
     "metadata": {},
     "output_type": "execute_result"
    },
    {
     "data": {
      "image/png": "[encoded data removed]",
      "text/plain": [
       "<Figure size 640x480 with 1 Axes>"
      ]
     },
     "metadata": {},
     "output_type": "display_data"
    }
   ],
   "source": [
    "# Show the first sample image of the training dataset\n",
    "import matplotlib.pyplot as plt\n",
    "\n",
    "plt.imshow(train_ds[0][0], cmap='gray')"
   ]
  },
  {
   "attachments": {},
   "cell_type": "markdown",
   "metadata": {
    "id": "oS2y3URjtbx1"
   },
   "source": [
    "# Model"
   ]
  },
  {
   "cell_type": "code",
   "execution_count": 8,
   "metadata": {
    "colab": {
     "base_uri": "https://localhost:8080/"
    },
    "id": "9LM4PVWQtbx1",
    "outputId": "d82c6b42-792a-45f5-fa38-9cc87b7aab70"
   },
   "outputs": [
    {
     "name": "stdout",
     "output_type": "stream",
     "text": [
      "Requirement already satisfied: diffusers in /usr/local/lib/python3.10/dist-packages (0.16.1)\n",
      "Requirement already satisfied: requests in /usr/local/lib/python3.10/dist-packages (from diffusers) (2.28.2)\n",
      "Requirement already satisfied: importlib-metadata in /usr/local/lib/python3.10/dist-packages (from diffusers) (6.6.0)\n",
      "Requirement already satisfied: Pillow in /usr/local/lib/python3.10/dist-packages (from diffusers) (9.4.0)\n",
      "Requirement already satisfied: regex!=2019.12.17 in /usr/local/lib/python3.10/dist-packages (from diffusers) (2023.5.5)\n",
      "Requirement already satisfied: numpy in /usr/local/lib/python3.10/dist-packages (from diffusers) (1.24.2)\n",
      "Requirement already satisfied: filelock in /usr/local/lib/python3.10/dist-packages (from diffusers) (3.10.7)\n",
      "Requirement already satisfied: huggingface-hub>=0.13.2 in /usr/local/lib/python3.10/dist-packages (from diffusers) (0.14.1)\n",
      "Requirement already satisfied: packaging>=20.9 in /usr/local/lib/python3.10/dist-packages (from huggingface-hub>=0.13.2->diffusers) (23.0)\n",
      "Requirement already satisfied: typing-extensions>=3.7.4.3 in /usr/local/lib/python3.10/dist-packages (from huggingface-hub>=0.13.2->diffusers) (4.5.0)\n",
      "Requirement already satisfied: fsspec in /usr/local/lib/python3.10/dist-packages (from huggingface-hub>=0.13.2->diffusers) (2023.5.0)\n",
      "Requirement already satisfied: pyyaml>=5.1 in /usr/local/lib/python3.10/dist-packages (from huggingface-hub>=0.13.2->diffusers) (6.0)\n",
      "Requirement already satisfied: tqdm>=4.42.1 in /usr/local/lib/python3.10/dist-packages (from huggingface-hub>=0.13.2->diffusers) (4.65.0)\n",
      "Requirement already satisfied: zipp>=0.5 in /usr/local/lib/python3.10/dist-packages (from importlib-metadata->diffusers) (3.15.0)\n",
      "Requirement already satisfied: idna<4,>=2.5 in /usr/lib/python3/dist-packages (from requests->diffusers) (2.8)\n",
      "Requirement already satisfied: urllib3<1.27,>=1.21.1 in /usr/local/lib/python3.10/dist-packages (from requests->diffusers) (1.26.16)\n",
      "Requirement already satisfied: charset-normalizer<4,>=2 in /usr/local/lib/python3.10/dist-packages (from requests->diffusers) (3.1.0)\n",
      "Requirement already satisfied: certifi>=2017.4.17 in /usr/lib/python3/dist-packages (from requests->diffusers) (2019.11.28)\n",
      "\u001b[33mWARNING: Running pip as the 'root' user can result in broken permissions and conflicting behaviour with the system package manager. It is recommended to use a virtual environment instead: https://pip.pypa.io/warnings/venv\u001b[0m\u001b[33m\n",
      "\u001b[0m\n",
      "\u001b[1m[\u001b[0m\u001b[34;49mnotice\u001b[0m\u001b[1;39;49m]\u001b[0m\u001b[39;49m A new release of pip is available: \u001b[0m\u001b[31;49m23.0.1\u001b[0m\u001b[39;49m -> \u001b[0m\u001b[32;49m23.1.2\u001b[0m\n",
      "\u001b[1m[\u001b[0m\u001b[34;49mnotice\u001b[0m\u001b[1;39;49m]\u001b[0m\u001b[39;49m To update, run: \u001b[0m\u001b[32;49mpython -m pip install --upgrade pip\u001b[0m\n"
     ]
    }
   ],
   "source": [
    "!pip install diffusers"
   ]
  },
  {
   "cell_type": "code",
   "execution_count": 9,
   "metadata": {
    "colab": {
     "base_uri": "https://localhost:8080/"
    },
    "id": "qf1vzcXYtbx2",
    "outputId": "4f61a703-c48a-44dd-ba35-9428d68f46e2"
   },
   "outputs": [
    {
     "name": "stdout",
     "output_type": "stream",
     "text": [
      "Requirement already satisfied: denoising_diffusion_pytorch in /usr/local/lib/python3.10/dist-packages (1.6.4)\n",
      "Requirement already satisfied: torch in /usr/local/lib/python3.10/dist-packages (from denoising_diffusion_pytorch) (2.0.0)\n",
      "Requirement already satisfied: pillow in /usr/local/lib/python3.10/dist-packages (from denoising_diffusion_pytorch) (9.4.0)\n",
      "Requirement already satisfied: accelerate in /usr/local/lib/python3.10/dist-packages (from denoising_diffusion_pytorch) (0.19.0)\n",
      "Requirement already satisfied: tqdm in /usr/local/lib/python3.10/dist-packages (from denoising_diffusion_pytorch) (4.65.0)\n",
      "Requirement already satisfied: pytorch-fid in /usr/local/lib/python3.10/dist-packages (from denoising_diffusion_pytorch) (0.3.0)\n",
      "Requirement already satisfied: torchvision in /usr/local/lib/python3.10/dist-packages (from denoising_diffusion_pytorch) (0.15.1)\n",
      "Requirement already satisfied: numpy in /usr/local/lib/python3.10/dist-packages (from denoising_diffusion_pytorch) (1.24.2)\n",
      "Requirement already satisfied: einops in /usr/local/lib/python3.10/dist-packages (from denoising_diffusion_pytorch) (0.6.1)\n",
      "Requirement already satisfied: ema-pytorch in /usr/local/lib/python3.10/dist-packages (from denoising_diffusion_pytorch) (0.2.3)\n",
      "Requirement already satisfied: pyyaml in /usr/local/lib/python3.10/dist-packages (from accelerate->denoising_diffusion_pytorch) (6.0)\n",
      "Requirement already satisfied: psutil in /usr/local/lib/python3.10/dist-packages (from accelerate->denoising_diffusion_pytorch) (5.9.4)\n",
      "Requirement already satisfied: packaging>=20.0 in /usr/local/lib/python3.10/dist-packages (from accelerate->denoising_diffusion_pytorch) (23.0)\n",
      "Requirement already satisfied: nvidia-cuda-runtime-cu11==11.7.99 in /usr/local/lib/python3.10/dist-packages (from torch->denoising_diffusion_pytorch) (11.7.99)\n",
      "Requirement already satisfied: nvidia-curand-cu11==10.2.10.91 in /usr/local/lib/python3.10/dist-packages (from torch->denoising_diffusion_pytorch) (10.2.10.91)\n",
      "Requirement already satisfied: nvidia-cuda-cupti-cu11==11.7.101 in /usr/local/lib/python3.10/dist-packages (from torch->denoising_diffusion_pytorch) (11.7.101)\n",
      "Requirement already satisfied: typing-extensions in /usr/local/lib/python3.10/dist-packages (from torch->denoising_diffusion_pytorch) (4.5.0)\n",
      "Requirement already satisfied: nvidia-cublas-cu11==11.10.3.66 in /usr/local/lib/python3.10/dist-packages (from torch->denoising_diffusion_pytorch) (11.10.3.66)\n",
      "Requirement already satisfied: networkx in /usr/local/lib/python3.10/dist-packages (from torch->denoising_diffusion_pytorch) (3.0)\n",
      "Requirement already satisfied: jinja2 in /usr/local/lib/python3.10/dist-packages (from torch->denoising_diffusion_pytorch) (3.1.2)\n",
      "Requirement already satisfied: nvidia-cusolver-cu11==11.4.0.1 in /usr/local/lib/python3.10/dist-packages (from torch->denoising_diffusion_pytorch) (11.4.0.1)\n",
      "Requirement already satisfied: nvidia-cufft-cu11==10.9.0.58 in /usr/local/lib/python3.10/dist-packages (from torch->denoising_diffusion_pytorch) (10.9.0.58)\n",
      "Requirement already satisfied: nvidia-cuda-nvrtc-cu11==11.7.99 in /usr/local/lib/python3.10/dist-packages (from torch->denoising_diffusion_pytorch) (11.7.99)\n",
      "Requirement already satisfied: nvidia-nccl-cu11==2.14.3 in /usr/local/lib/python3.10/dist-packages (from torch->denoising_diffusion_pytorch) (2.14.3)\n",
      "Requirement already satisfied: nvidia-cusparse-cu11==11.7.4.91 in /usr/local/lib/python3.10/dist-packages (from torch->denoising_diffusion_pytorch) (11.7.4.91)\n",
      "Requirement already satisfied: sympy in /usr/local/lib/python3.10/dist-packages (from torch->denoising_diffusion_pytorch) (1.11.1)\n",
      "Requirement already satisfied: nvidia-cudnn-cu11==8.5.0.96 in /usr/local/lib/python3.10/dist-packages (from torch->denoising_diffusion_pytorch) (8.5.0.96)\n",
      "Requirement already satisfied: nvidia-nvtx-cu11==11.7.91 in /usr/local/lib/python3.10/dist-packages (from torch->denoising_diffusion_pytorch) (11.7.91)\n",
      "Requirement already satisfied: triton==2.0.0 in /usr/local/lib/python3.10/dist-packages (from torch->denoising_diffusion_pytorch) (2.0.0)\n",
      "Requirement already satisfied: filelock in /usr/local/lib/python3.10/dist-packages (from torch->denoising_diffusion_pytorch) (3.10.7)\n",
      "Requirement already satisfied: setuptools in /usr/local/lib/python3.10/dist-packages (from nvidia-cublas-cu11==11.10.3.66->torch->denoising_diffusion_pytorch) (67.6.1)\n",
      "Requirement already satisfied: wheel in /usr/local/lib/python3.10/dist-packages (from nvidia-cublas-cu11==11.10.3.66->torch->denoising_diffusion_pytorch) (0.40.0)\n",
      "Requirement already satisfied: cmake in /usr/local/lib/python3.10/dist-packages (from triton==2.0.0->torch->denoising_diffusion_pytorch) (3.26.1)\n",
      "Requirement already satisfied: lit in /usr/local/lib/python3.10/dist-packages (from triton==2.0.0->torch->denoising_diffusion_pytorch) (16.0.0)\n",
      "Requirement already satisfied: scipy in /usr/local/lib/python3.10/dist-packages (from pytorch-fid->denoising_diffusion_pytorch) (1.10.1)\n",
      "Requirement already satisfied: requests in /usr/local/lib/python3.10/dist-packages (from torchvision->denoising_diffusion_pytorch) (2.28.2)\n",
      "Requirement already satisfied: MarkupSafe>=2.0 in /usr/local/lib/python3.10/dist-packages (from jinja2->torch->denoising_diffusion_pytorch) (2.1.2)\n",
      "Requirement already satisfied: idna<4,>=2.5 in /usr/lib/python3/dist-packages (from requests->torchvision->denoising_diffusion_pytorch) (2.8)\n",
      "Requirement already satisfied: certifi>=2017.4.17 in /usr/lib/python3/dist-packages (from requests->torchvision->denoising_diffusion_pytorch) (2019.11.28)\n",
      "Requirement already satisfied: charset-normalizer<4,>=2 in /usr/local/lib/python3.10/dist-packages (from requests->torchvision->denoising_diffusion_pytorch) (3.1.0)\n",
      "Requirement already satisfied: urllib3<1.27,>=1.21.1 in /usr/local/lib/python3.10/dist-packages (from requests->torchvision->denoising_diffusion_pytorch) (1.26.16)\n",
      "Requirement already satisfied: mpmath>=0.19 in /usr/local/lib/python3.10/dist-packages (from sympy->torch->denoising_diffusion_pytorch) (1.3.0)\n",
      "\u001b[33mWARNING: Running pip as the 'root' user can result in broken permissions and conflicting behaviour with the system package manager. It is recommended to use a virtual environment instead: https://pip.pypa.io/warnings/venv\u001b[0m\u001b[33m\n",
      "\u001b[0m\n",
      "\u001b[1m[\u001b[0m\u001b[34;49mnotice\u001b[0m\u001b[1;39;49m]\u001b[0m\u001b[39;49m A new release of pip is available: \u001b[0m\u001b[31;49m23.0.1\u001b[0m\u001b[39;49m -> \u001b[0m\u001b[32;49m23.1.2\u001b[0m\n",
      "\u001b[1m[\u001b[0m\u001b[34;49mnotice\u001b[0m\u001b[1;39;49m]\u001b[0m\u001b[39;49m To update, run: \u001b[0m\u001b[32;49mpython -m pip install --upgrade pip\u001b[0m\n"
     ]
    }
   ],
   "source": [
    "!pip install denoising_diffusion_pytorch"
   ]
  },
  {
   "cell_type": "code",
   "execution_count": 10,
   "metadata": {},
   "outputs": [
    {
     "name": "stdout",
     "output_type": "stream",
     "text": [
      "Requirement already satisfied: fastcore in /usr/local/lib/python3.10/dist-packages (1.5.29)\n",
      "Requirement already satisfied: pip in /usr/local/lib/python3.10/dist-packages (from fastcore) (23.0.1)\n",
      "Requirement already satisfied: packaging in /usr/local/lib/python3.10/dist-packages (from fastcore) (23.0)\n",
      "\u001b[33mWARNING: Running pip as the 'root' user can result in broken permissions and conflicting behaviour with the system package manager. It is recommended to use a virtual environment instead: https://pip.pypa.io/warnings/venv\u001b[0m\u001b[33m\n",
      "\u001b[0m\n",
      "\u001b[1m[\u001b[0m\u001b[34;49mnotice\u001b[0m\u001b[1;39;49m]\u001b[0m\u001b[39;49m A new release of pip is available: \u001b[0m\u001b[31;49m23.0.1\u001b[0m\u001b[39;49m -> \u001b[0m\u001b[32;49m23.1.2\u001b[0m\n",
      "\u001b[1m[\u001b[0m\u001b[34;49mnotice\u001b[0m\u001b[1;39;49m]\u001b[0m\u001b[39;49m To update, run: \u001b[0m\u001b[32;49mpython -m pip install --upgrade pip\u001b[0m\n"
     ]
    }
   ],
   "source": [
    "!pip install fastcore "
   ]
  },
  {
   "cell_type": "code",
   "execution_count": null,
   "metadata": {},
   "outputs": [],
   "source": [
    "from typing import Tuple\n",
    "import torch\n",
    "from torch import nn\n",
    "\n",
    "class TemporalEncoder(nn.Module):\n",
    "    def __init__(\n",
    "        self, \n",
    "        input_size: Tuple[int, int], \n",
    "        hidden_size: int,\n",
    "        num_images: int, \n",
    "        device: str\n",
    "        ) -> None:\n",
    "        super().__init__()\n",
    "        # Set the input size of the image.\n",
    "        self.input_size = input_size\n",
    "        self.hidden_size = hidden_size\n",
    "        # Set the size of the flattened image.\n",
    "        self.flatten_size = input_size[0] * input_size[1]\n",
    "        # Set a list of GRUs, one for each image.\n",
    "        self.gru = nn.GRU(\n",
    "            self.flatten_size, hidden_size, num_layers=num_images,\n",
    "            batch_first=True)\n",
    "        #self.grus = nn.ModuleList(\n",
    "        #    [nn.GRU(self.flatten_size, self.flatten_size)\n",
    "        #     for _ in range(num_images)])\n",
    "        # Set the device used for the computations.\n",
    "        self.to(device)\n",
    "        self.device = device\n",
    "\n",
    "    def to(self, device: str) -> None:\n",
    "        super().to(device)\n",
    "        self.device = device\n",
    "\n",
    "    def forward(self, x: torch.FloatTensor) -> torch.FloatTensor:\n",
    "        batch_size = x.shape[0]\n",
    "        n_channels = x.shape[1]\n",
    "        # Set the initial hidden states \n",
    "        initial_hidden_state = torch.zeros(\n",
    "            batch_size, n_channels, self.flatten_size, dtype=torch.float32,\n",
    "            device=self.device)\n",
    "\n",
    "        _, out = self.gru(x.flatten(start_dim=2), initial_hidden_state)\n",
    "        # Iterate over the images and pass them through the GRUs.\n",
    "        '''for i, gru in enumerate(self.grus):\n",
    "            # Flatten the image.\n",
    "            img = x[:, i].flatten(start_dim=1)\n",
    "            # If it is the first image, use the initial hidden state.\n",
    "            if i == 0:\n",
    "                h = initial_hidden_state\n",
    "            # Get the forward pass of the GRU.\n",
    "            h, _ = gru(img, h)''';\n",
    "        \n",
    "        \"\"\"# Turn the hidden state to the original shape.\n",
    "        out = out.view(batch_size, n_channels, self.input_size[0],\n",
    "                       self.input_size[1])\"\"\"\n",
    "        return out"
   ]
  },
  {
   "cell_type": "code",
   "execution_count": 11,
   "metadata": {
    "id": "yQfuFLG5tbx2"
   },
   "outputs": [],
   "source": [
    "from pathlib import Path\n",
    "\n",
    "import wandb\n",
    "import fastcore.all as fc\n",
    "\n",
    "import torch\n",
    "from torch import nn\n",
    "from diffusers import UNet2DConditionModel\n",
    "\n",
    "try:\n",
    "    from denoising_diffusion_pytorch.simple_diffusion import UViT\n",
    "except:\n",
    "    raise ImportError(\"Please install denoising_diffusion_pytorch with `pip install denoising_diffusion_pytorch`\")\n",
    "\n",
    "\n",
    "def init_unet(model):\n",
    "    \"From Jeremy's bag of tricks on fastai V2 2023\"\n",
    "    for o in model.down_blocks:\n",
    "        for p in o.resnets:\n",
    "            p.conv2.weight.data.zero_()\n",
    "            for p in fc.L(o.downsamplers): nn.init.orthogonal_(p.conv.weight)\n",
    "\n",
    "    for o in model.up_blocks:\n",
    "        for p in o.resnets: p.conv2.weight.data.zero_()\n",
    "\n",
    "    model.conv_out.weight.data.zero_()\n",
    "\n",
    "class WandbModel:\n",
    "    \"A model that can be saved to wandb\"\n",
    "    @classmethod\n",
    "    def from_checkpoint(cls, model_params, checkpoint_file):\n",
    "        \"Load a UNet2D model from a checkpoint file\"\n",
    "        model = cls(**model_params)\n",
    "        print(f\"Loading model from: {checkpoint_file}\")\n",
    "        model.load_state_dict(torch.load(checkpoint_file))\n",
    "        return model\n",
    "\n",
    "    @classmethod\n",
    "    def from_artifact(cls, model_params, artifact_name):\n",
    "        \"Load a UNet2D model from a wandb.Artifact, need to be run in a wandb run\"\n",
    "        artifact = wandb.use_artifact(artifact_name, type='model')\n",
    "        artifact_dir = Path(artifact.download())\n",
    "        chpt_file = list(artifact_dir.glob(\"*.pth\"))[0]\n",
    "        return cls.from_checkpoint(model_params, chpt_file)\n",
    "\n",
    "def get_unet_params(model_name=\"unet_small\", num_frames=4):\n",
    "    \"Return the parameters for the diffusers UNet2d model\"\n",
    "    if model_name == \"unet_small\":\n",
    "        return dict(\n",
    "            block_out_channels=(16, 32, 64, 128), # number of channels for each block\n",
    "            norm_num_groups=8, # number of groups for the normalization layer\n",
    "            in_channels=num_frames, # number of input channels\n",
    "            out_channels=1, # number of output channels\n",
    "            )\n",
    "    elif model_name == \"unet_big\":\n",
    "        return dict(\n",
    "            block_out_channels=(32, 64, 128, 256), # number of channels for each block\n",
    "            norm_num_groups=8, # number of groups for the normalization layer\n",
    "            in_channels=num_frames, # number of input channels\n",
    "            out_channels=1, # number of output channels\n",
    "            )\n",
    "    else:\n",
    "        raise(f\"Model name not found: {model_name}, choose between 'unet_small' or 'unet_big'\")\n",
    "\n",
    "class UNet2DTemporalCondition(UNet2DConditionModel, WandbModel):\n",
    "    def __init__(self, \n",
    "                 *x, \n",
    "                 input_size: Tuple[int, int], \n",
    "                 hidden_size: int, \n",
    "                 num_images: int, \n",
    "                 device: str = \"cuda\",\n",
    "                 **kwargs):\n",
    "        super().__init__(*x, **kwargs)\n",
    "        init_unet(self)\n",
    "        self.temporal_encoder = TemporalEncoder(input_size=input_size, hidden_size=hidden_size, num_images=num_images, device=device)\n",
    "\n",
    "    def forward(self, *x, **kwargs):\n",
    "        print(type(x))\n",
    "        encoder_hidden_states= self.temporal_encoder(*x)\n",
    "        return super().forward(*x, encoder_hidden_states=encoder_hidden_states, **kwargs).sample ## Diffusers's UNet2DConditionModel class\n",
    "\n",
    "## Simple Diffusion paper\n",
    "\n",
    "def get_uvit_params(model_name=\"uvit_small\", num_frames=4):\n",
    "    \"Return the parameters for the diffusers UViT model\"\n",
    "    if model_name == \"uvit_small\":\n",
    "        return dict(\n",
    "            dim=512,\n",
    "            ff_mult=2,\n",
    "            vit_depth=4,\n",
    "            channels=4, \n",
    "            patch_size=4,\n",
    "            final_img_itransform=nn.Conv2d(num_frames,1,1)\n",
    "            )\n",
    "    elif model_name == \"uvit_big\":\n",
    "        return dict(\n",
    "            dim=1024,\n",
    "            ff_mult=4,\n",
    "            vit_depth=8,\n",
    "            channels=4, \n",
    "            patch_size=4,\n",
    "            final_img_itransform=nn.Conv2d(num_frames,1,1)\n",
    "            )\n",
    "    else:\n",
    "        raise(f\"Model name not found: {model_name}, choose between 'uvit_small' or 'uvit_big'\")\n",
    "\n",
    "class UViTModel(UViT, WandbModel): pass"
   ]
  },
  {
   "cell_type": "code",
   "execution_count": 12,
   "metadata": {
    "id": "rJzdvyzMx-MI"
   },
   "outputs": [],
   "source": [
    "from pathlib import Path\n",
    "\n",
    "import torch\n",
    "import wandb\n",
    "import numpy as np\n",
    "\n",
    "## For Training\n",
    "\n",
    "def to_wandb_image(img):\n",
    "    \"Convert a tensor to a wandb.Image\"\n",
    "    return wandb.Image(torch.cat(img.split(1), dim=-1).cpu().numpy())\n",
    "\n",
    "def log_images(xt, samples):\n",
    "    \"Log sampled images to wandb\"\n",
    "    device = samples.device\n",
    "    frames = torch.cat([xt[:, :-1,...].to(device), samples], dim=1)\n",
    "    wandb.log({\"sampled_images\": [to_wandb_image(img) for img in frames]})\n",
    "\n",
    "def save_model(model, model_name):\n",
    "    \"Save the model to wandb\"\n",
    "    model_name = f\"{wandb.run.id}_{model_name}\"\n",
    "    models_folder = Path(\"models\")\n",
    "    if not models_folder.exists():\n",
    "        models_folder.mkdir()\n",
    "    torch.save(model.state_dict(), models_folder/f\"{model_name}.pth\")\n",
    "    at = wandb.Artifact(model_name, type=\"model\")\n",
    "    at.add_file(f\"models/{model_name}.pth\")\n",
    "    wandb.log_artifact(at)\n",
    "\n",
    "\n",
    "## For Inference\n",
    "def htile(img):\n",
    "    \"Horizontally tile a batch of images.\"\n",
    "    return torch.cat(img.split(1), dim=-1)\n",
    "\n",
    "def vtile(img):\n",
    "    \"Vertically tile a batch of images.\"\n",
    "    return torch.cat(img.split(1), dim=-2)\n",
    "\n",
    "def vhtile(*imgs):\n",
    "    \"Vertically and horizontally tile a batch of images.\"\n",
    "    return vtile(torch.cat([htile(img) for img in imgs], dim=0))\n",
    "\n",
    "def scale(arr):\n",
    "    \"Scales values of array in [0,1]\"\n",
    "    m, M = arr.min(), arr.max()\n",
    "    return (arr - m) / (M - m)\n",
    "\n",
    "def preprocess_frames(data):\n",
    "    \"Preprocess frames for wandb.Video\"\n",
    "    sdata = scale(data.squeeze())\n",
    "    # print(sdata.shape)\n",
    "    def tfm(frame):\n",
    "        rframe = 255 * frame\n",
    "        return rframe.cpu().numpy().astype(np.uint8)\n",
    "    return [tfm(frame) for frame in sdata]\n",
    "\n",
    "def to_video(data):\n",
    "    \"create wandb.Video container\"\n",
    "    frames = preprocess_frames(data)\n",
    "    vid = np.stack(frames)[:, None, ...]\n",
    "    return wandb.Video(vid)"
   ]
  },
  {
   "cell_type": "code",
   "execution_count": 13,
   "metadata": {
    "tags": []
   },
   "outputs": [
    {
     "name": "stdout",
     "output_type": "stream",
     "text": [
      "Requirement already satisfied: fastprogress in /usr/local/lib/python3.10/dist-packages (1.0.3)\n",
      "Requirement already satisfied: torchmetrics in /usr/local/lib/python3.10/dist-packages (0.11.4)\n",
      "Requirement already satisfied: numpy>=1.17.2 in /usr/local/lib/python3.10/dist-packages (from torchmetrics) (1.24.2)\n",
      "Requirement already satisfied: torch>=1.8.1 in /usr/local/lib/python3.10/dist-packages (from torchmetrics) (2.0.0)\n",
      "Requirement already satisfied: packaging in /usr/local/lib/python3.10/dist-packages (from torchmetrics) (23.0)\n",
      "Requirement already satisfied: nvidia-curand-cu11==10.2.10.91 in /usr/local/lib/python3.10/dist-packages (from torch>=1.8.1->torchmetrics) (10.2.10.91)\n",
      "Requirement already satisfied: typing-extensions in /usr/local/lib/python3.10/dist-packages (from torch>=1.8.1->torchmetrics) (4.5.0)\n",
      "Requirement already satisfied: nvidia-cuda-runtime-cu11==11.7.99 in /usr/local/lib/python3.10/dist-packages (from torch>=1.8.1->torchmetrics) (11.7.99)\n",
      "Requirement already satisfied: triton==2.0.0 in /usr/local/lib/python3.10/dist-packages (from torch>=1.8.1->torchmetrics) (2.0.0)\n",
      "Requirement already satisfied: nvidia-cuda-cupti-cu11==11.7.101 in /usr/local/lib/python3.10/dist-packages (from torch>=1.8.1->torchmetrics) (11.7.101)\n",
      "Requirement already satisfied: nvidia-nvtx-cu11==11.7.91 in /usr/local/lib/python3.10/dist-packages (from torch>=1.8.1->torchmetrics) (11.7.91)\n",
      "Requirement already satisfied: nvidia-nccl-cu11==2.14.3 in /usr/local/lib/python3.10/dist-packages (from torch>=1.8.1->torchmetrics) (2.14.3)\n",
      "Requirement already satisfied: nvidia-cublas-cu11==11.10.3.66 in /usr/local/lib/python3.10/dist-packages (from torch>=1.8.1->torchmetrics) (11.10.3.66)\n",
      "Requirement already satisfied: nvidia-cusparse-cu11==11.7.4.91 in /usr/local/lib/python3.10/dist-packages (from torch>=1.8.1->torchmetrics) (11.7.4.91)\n",
      "Requirement already satisfied: nvidia-cudnn-cu11==8.5.0.96 in /usr/local/lib/python3.10/dist-packages (from torch>=1.8.1->torchmetrics) (8.5.0.96)\n",
      "Requirement already satisfied: nvidia-cufft-cu11==10.9.0.58 in /usr/local/lib/python3.10/dist-packages (from torch>=1.8.1->torchmetrics) (10.9.0.58)\n",
      "Requirement already satisfied: nvidia-cuda-nvrtc-cu11==11.7.99 in /usr/local/lib/python3.10/dist-packages (from torch>=1.8.1->torchmetrics) (11.7.99)\n",
      "Requirement already satisfied: nvidia-cusolver-cu11==11.4.0.1 in /usr/local/lib/python3.10/dist-packages (from torch>=1.8.1->torchmetrics) (11.4.0.1)\n",
      "Requirement already satisfied: sympy in /usr/local/lib/python3.10/dist-packages (from torch>=1.8.1->torchmetrics) (1.11.1)\n",
      "Requirement already satisfied: jinja2 in /usr/local/lib/python3.10/dist-packages (from torch>=1.8.1->torchmetrics) (3.1.2)\n",
      "Requirement already satisfied: filelock in /usr/local/lib/python3.10/dist-packages (from torch>=1.8.1->torchmetrics) (3.10.7)\n",
      "Requirement already satisfied: networkx in /usr/local/lib/python3.10/dist-packages (from torch>=1.8.1->torchmetrics) (3.0)\n",
      "Requirement already satisfied: setuptools in /usr/local/lib/python3.10/dist-packages (from nvidia-cublas-cu11==11.10.3.66->torch>=1.8.1->torchmetrics) (67.6.1)\n",
      "Requirement already satisfied: wheel in /usr/local/lib/python3.10/dist-packages (from nvidia-cublas-cu11==11.10.3.66->torch>=1.8.1->torchmetrics) (0.40.0)\n",
      "Requirement already satisfied: lit in /usr/local/lib/python3.10/dist-packages (from triton==2.0.0->torch>=1.8.1->torchmetrics) (16.0.0)\n",
      "Requirement already satisfied: cmake in /usr/local/lib/python3.10/dist-packages (from triton==2.0.0->torch>=1.8.1->torchmetrics) (3.26.1)\n",
      "Requirement already satisfied: MarkupSafe>=2.0 in /usr/local/lib/python3.10/dist-packages (from jinja2->torch>=1.8.1->torchmetrics) (2.1.2)\n",
      "Requirement already satisfied: mpmath>=0.19 in /usr/local/lib/python3.10/dist-packages (from sympy->torch>=1.8.1->torchmetrics) (1.3.0)\n",
      "\u001b[33mWARNING: Running pip as the 'root' user can result in broken permissions and conflicting behaviour with the system package manager. It is recommended to use a virtual environment instead: https://pip.pypa.io/warnings/venv\u001b[0m\u001b[33m\n",
      "\u001b[0m\n",
      "\u001b[1m[\u001b[0m\u001b[34;49mnotice\u001b[0m\u001b[1;39;49m]\u001b[0m\u001b[39;49m A new release of pip is available: \u001b[0m\u001b[31;49m23.0.1\u001b[0m\u001b[39;49m -> \u001b[0m\u001b[32;49m23.1.2\u001b[0m\n",
      "\u001b[1m[\u001b[0m\u001b[34;49mnotice\u001b[0m\u001b[1;39;49m]\u001b[0m\u001b[39;49m To update, run: \u001b[0m\u001b[32;49mpython -m pip install --upgrade pip\u001b[0m\n"
     ]
    }
   ],
   "source": [
    "!pip install fastprogress torchmetrics"
   ]
  },
  {
   "cell_type": "code",
   "execution_count": 22,
   "metadata": {
    "id": "z1l_534VxxaQ",
    "tags": []
   },
   "outputs": [],
   "source": [
    "import random, argparse\n",
    "from pathlib import Path\n",
    "\n",
    "import wandb\n",
    "import numpy as np\n",
    "import torch\n",
    "from torch import nn\n",
    "from torch.optim import AdamW\n",
    "from torch.utils.data import DataLoader\n",
    "from torch.optim.lr_scheduler import OneCycleLR\n",
    "from torch.utils.data.dataloader import default_collate\n",
    "from torchmetrics import PeakSignalNoiseRatio, StructuralSimilarityIndexMeasure\n",
    "\n",
    "from fastprogress import progress_bar\n",
    "\n",
    "#from cloud_diffusion.wandb import log_images, save_model\n",
    "\n",
    "def noisify_last_frame(frames, noise_func):\n",
    "    \"Noisify the last frame of a sequence\"\n",
    "    past_frames = frames[:,:-1]\n",
    "    last_frame  = frames[:,-1:]\n",
    "    noise, t, e = noise_func(last_frame)\n",
    "    return torch.cat([past_frames, noise], dim=1), t, e\n",
    "\n",
    "def noisify_collate(noise_func): \n",
    "    def _inner(b): \n",
    "        \"Collate function that noisifies the last frame\"\n",
    "        return noisify_last_frame(default_collate(b), noise_func)\n",
    "    return _inner\n",
    "\n",
    "class NoisifyDataloader(DataLoader):\n",
    "    \"\"\"Noisify the last frame of a dataloader by applying \n",
    "    a noise function, after collating the batch\"\"\"\n",
    "    def __init__(self, dataset, *args, noise_func=None, **kwargs):\n",
    "        super().__init__(dataset, *args, collate_fn=noisify_collate(noise_func), **kwargs)\n",
    "\n",
    "class MiniTrainer:\n",
    "    \"A mini trainer for the diffusion process\"\n",
    "    def __init__(self, \n",
    "                 train_dataloader, \n",
    "                 valid_dataloader, \n",
    "                 model, \n",
    "                 sampler, \n",
    "                 device=\"cuda\", \n",
    "                 loss_func=nn.MSELoss(), \n",
    "                 ):\n",
    "        self.train_dataloader = train_dataloader\n",
    "        self.valid_dataloader = valid_dataloader\n",
    "        self.loss_func = loss_func\n",
    "        self.psnr = PeakSignalNoiseRatio().to(device)\n",
    "        self.ssim = StructuralSimilarityIndexMeasure().to(device)\n",
    "        self.model = model.to(device)\n",
    "        self.scaler = torch.cuda.amp.GradScaler()\n",
    "        self.device = device\n",
    "        self.sampler = sampler\n",
    "        self.val_batch = next(iter(valid_dataloader))[0].to(device)  # grab a fixed batch to log predictions\n",
    "    \n",
    "    def train_step(self, loss):\n",
    "        \"Train for one step\"\n",
    "        self.optimizer.zero_grad()\n",
    "        self.scaler.scale(loss).backward()\n",
    "        self.scaler.step(self.optimizer)\n",
    "        self.scaler.update()\n",
    "        self.scheduler.step()\n",
    "\n",
    "    def one_epoch(self, epoch=None):\n",
    "        \"Train for one epoch, log metrics and save model\"\n",
    "        self.model.train()\n",
    "        pbar = progress_bar(self.train_dataloader, leave=False)\n",
    "        for batch in pbar:\n",
    "            frames, t, noise = to_device(batch, device=self.device)\n",
    "            with torch.autocast(\"cuda\"):\n",
    "                predicted_noise = self.model(frames, t)\n",
    "                loss = self.loss_func(noise, predicted_noise)\n",
    "            self.train_step(loss)\n",
    "            wandb.log({\"train_mse\": loss.item(),\n",
    "                       \"learning_rate\": self.scheduler.get_last_lr()[0]})\n",
    "            pbar.comment = f\"epoch={epoch}, MSE={loss.item():2.3f}\"\n",
    "\n",
    "    def one_epoch_validation(self, epoch=None):\n",
    "        \"Validates on val set\"\n",
    "        pbar = progress_bar(self.valid_dataloader, leave=False)\n",
    "        psnr_metric = 0\n",
    "        mse_metric = 0\n",
    "        ssmi_metric = 0\n",
    "        for val_batch in pbar:\n",
    "            frames = val_batch[0].to(self.device)\n",
    "            samples = self.sampler(self.model, past_frames=frames[:,:-1]).to(self.device)\n",
    "            psnr_metric += self.psnr(samples, frames[:,-1]).float().cpu()\n",
    "            ssmi_metric += self.ssim(samples, frames[:,-1]).float().cpu()\n",
    "            mse_metric += self.loss_func(samples, frames[:,-1]).float().cpu()\n",
    "        psnr_metric = psnr_metric / len(self.valid_dataloader)\n",
    "        ssmi_metric = ssmi_metric / len(self.valid_dataloader)\n",
    "        mse_metric = mse_metric / len(self.valid_dataloader)\n",
    "        wandb.log({\"val_psnr\": psnr_metric,\n",
    "                   \"val_ssmi\": ssmi_metric,\n",
    "                   \"val_mse\": mse_metric})\n",
    "\n",
    "    def prepare(self, config):\n",
    "        wandb.config.update(config)\n",
    "        config.total_train_steps = config.epochs * len(self.train_dataloader)\n",
    "        self.optimizer = AdamW(self.model.parameters(), lr=config.lr, eps=1e-5)\n",
    "        self.scheduler = OneCycleLR(self.optimizer, max_lr=config.lr, total_steps=config.total_train_steps)\n",
    "\n",
    "    def fit(self, config):\n",
    "        self.prepare(config)\n",
    "        self.val_batch = self.val_batch[:min(config.n_preds, 8)]  # log first 8 predictions\n",
    "        for epoch in progress_bar(range(config.epochs), total=config.epochs, leave=True):\n",
    "            self.one_epoch(epoch)\n",
    "            self.one_epoch_validation(epoch)\n",
    "            \n",
    "            # log predictions\n",
    "            if epoch % config.log_every_epoch == 0:\n",
    "                samples = self.sampler(self.model, past_frames=self.val_batch[:,:-1])\n",
    "                log_images(self.val_batch, samples)\n",
    "\n",
    "        save_model(self.model, config.model_name)\n",
    "\n",
    "\n",
    "def set_seed(s, reproducible=False):\n",
    "    \"Set random seed for `random`, `torch`, and `numpy` (where available)\"\n",
    "    try: torch.manual_seed(s)\n",
    "    except NameError: pass\n",
    "    try: torch.cuda.manual_seed_all(s)\n",
    "    except NameError: pass\n",
    "    try: np.random.seed(s%(2**32-1))\n",
    "    except NameError: pass\n",
    "    random.seed(s)\n",
    "    if reproducible:\n",
    "        torch.backends.cudnn.deterministic = True\n",
    "        torch.backends.cudnn.benchmark = False\n",
    "\n",
    "def to_device(t, device=\"cpu\"):\n",
    "    if isinstance(t, (tuple, list)):\n",
    "        return [_t.to(device) for _t in t]\n",
    "    elif isinstance(t, torch.Tensor):\n",
    "        return t.to(device)\n",
    "    else:\n",
    "        raise(\"Not a Tensor or list of Tensors\")\n",
    "\n",
    "\n",
    "def ls(path: Path): \n",
    "    \"Return files on Path, sorted\"\n",
    "    return sorted(list(path.iterdir()))\n",
    "\n",
    "\n",
    "def parse_args(config):\n",
    "    \"A brute force way to parse arguments, it is probably not a good idea to use it\"\n",
    "    parser = argparse.ArgumentParser(description='Run training baseline')\n",
    "    for k,v in config.__dict__.items():\n",
    "        parser.add_argument('--'+k, type=type(v), default=v)\n",
    "    args = vars(parser.parse_args())\n",
    "    \n",
    "    # update config with parsed args\n",
    "    for k, v in args.items():\n",
    "        setattr(config, k, v)"
   ]
  },
  {
   "cell_type": "code",
   "execution_count": 15,
   "metadata": {
    "id": "XfTZnkBpyM-O"
   },
   "outputs": [],
   "source": [
    "from functools import partial\n",
    "\n",
    "import torch\n",
    "from fastprogress import progress_bar\n",
    "\n",
    "from diffusers.schedulers import DDIMScheduler\n",
    "\n",
    "\n",
    "## DDPM params\n",
    "## From fastai V2 Course DDPM notebooks\n",
    "betamin,betamax,n_steps = 0.0001,0.02, 1000\n",
    "beta = torch.linspace(betamin, betamax, n_steps)\n",
    "alpha = 1.-beta\n",
    "alphabar = alpha.cumprod(dim=0)\n",
    "sigma = beta.sqrt()\n",
    "\n",
    "def noisify_ddpm(x0):\n",
    "    \"Noise by ddpm\"\n",
    "    device = x0.device\n",
    "    n = len(x0)\n",
    "    t = torch.randint(0, n_steps, (n,), dtype=torch.long)\n",
    "    ε = torch.randn(x0.shape, device=device)\n",
    "    ᾱ_t = alphabar[t].reshape(-1, 1, 1, 1).to(device)\n",
    "    xt = ᾱ_t.sqrt()*x0 + (1-ᾱ_t).sqrt()*ε\n",
    "    return xt, t.to(device), ε\n",
    "\n",
    "@torch.no_grad()\n",
    "def diffusers_sampler(model, past_frames, sched, **kwargs):\n",
    "    \"Using Diffusers built-in samplers\"\n",
    "    model.eval()\n",
    "    device = next(model.parameters()).device\n",
    "    new_frame = torch.randn_like(past_frames[:,-1:], dtype=past_frames.dtype, device=device)\n",
    "    preds = []\n",
    "    pbar = progress_bar(sched.timesteps, leave=False)\n",
    "    for t in pbar:\n",
    "        pbar.comment = f\"DDIM Sampler: frame {t}\"\n",
    "        noise = model(torch.cat([past_frames, new_frame], dim=1), t)\n",
    "        new_frame = sched.step(noise, t, new_frame, **kwargs).prev_sample\n",
    "        preds.append(new_frame.float().cpu())\n",
    "    return preds[-1]\n",
    "\n",
    "def ddim_sampler(steps=350, eta=1.):\n",
    "    \"DDIM sampler, faster and a bit better than the built-in sampler\"\n",
    "    ddim_sched = DDIMScheduler()\n",
    "    ddim_sched.set_timesteps(steps)\n",
    "    return partial(diffusers_sampler, sched=ddim_sched, eta=eta)"
   ]
  },
  {
   "cell_type": "code",
   "execution_count": null,
   "metadata": {
    "id": "psosQcqNxxMY"
   },
   "outputs": [],
   "source": []
  },
  {
   "cell_type": "code",
   "execution_count": 16,
   "metadata": {
    "id": "-uNhPHz3wpqD"
   },
   "outputs": [],
   "source": [
    "from pathlib import Path\n",
    "from types import SimpleNamespace\n",
    "\n",
    "import wandb\n",
    "import torch\n",
    "from torch.utils.data import DataLoader\n",
    "\n",
    "# from cloud_diffusion.dataset import download_dataset, CloudDataset\n",
    "#from cloud_diffusion.utils import NoisifyDataloader, MiniTrainer, set_seed, parse_args\n",
    "#from cloud_diffusion.ddpm import noisify_ddpm, ddim_sampler\n",
    "# from cloud_diffusion.models import UNet2D, get_unet_params\n",
    "\n",
    "\n",
    "PROJECT_NAME = \"cloud_diffusion\"\n",
    "DATASET_ARTIFACT = 'maidacundo/cloud_diffusion/sample_dataset:v0'\n",
    "\n",
    "config = SimpleNamespace(    \n",
    "    epochs=50, # number of epochs\n",
    "    model_name=\"unet_small\", # model name to save [unet_small, unet_big]\n",
    "    strategy=\"ddpm\", # strategy to use ddpm\n",
    "    noise_steps=1000, # number of noise steps on the diffusion process\n",
    "    sampler_steps=333, # number of sampler steps on the diffusion process\n",
    "    seed=42, # random seed\n",
    "    batch_size=128, # batch size\n",
    "    img_size=64, # image size\n",
    "    device=\"cuda\", # device\n",
    "    num_workers=8, # number of workers for dataloader\n",
    "    num_frames=4, # number of frames to use as input\n",
    "    lr=5e-4, # learning rate\n",
    "    validation_days=3, # number of days to use for validation\n",
    "    log_every_epoch=5, # log every n epochs to wandb\n",
    "    n_preds=8, # number of predictions to make\n",
    "    )\n",
    "\n",
    "def train_func(config):\n",
    "    config.model_params = get_unet_params(config.model_name, config.num_frames)\n",
    "\n",
    "    set_seed(config.seed)\n",
    "    device = torch.device(config.device)\n",
    "\n",
    "    # downlaod the dataset from the wandb.Artifact\n",
    "    files = download_dataset(DATASET_ARTIFACT, PROJECT_NAME)\n",
    "    train_days, valid_days = files[:-config.validation_days], files[-config.validation_days:]\n",
    "    train_ds = CloudDataset(files=train_days, num_frames=config.num_frames, img_size=config.img_size)\n",
    "    valid_ds = CloudDataset(files=valid_days, num_frames=config.num_frames, img_size=config.img_size).shuffle()\n",
    "\n",
    "    # DDPM dataloaders\n",
    "    train_dataloader = NoisifyDataloader(train_ds, config.batch_size, shuffle=True, \n",
    "                                         noise_func=noisify_ddpm,  num_workers=config.num_workers)\n",
    "    valid_dataloader = NoisifyDataloader(valid_ds, config.batch_size, shuffle=False, \n",
    "                                          noise_func=noisify_ddpm,  num_workers=config.num_workers)\n",
    "\n",
    "    # model setup\n",
    "    model = UNet2D(**config.model_params)\n",
    "\n",
    "    # sampler\n",
    "    sampler = ddim_sampler(steps=config.sampler_steps)\n",
    "\n",
    "    # A simple training loop\n",
    "    trainer = MiniTrainer(train_dataloader, valid_dataloader, model, sampler, device)\n",
    "    trainer.fit(config)"
   ]
  },
  {
   "cell_type": "code",
   "execution_count": null,
   "metadata": {
    "colab": {
     "base_uri": "https://localhost:8080/",
     "height": 1000,
     "referenced_widgets": [
      "492bad3c69b142b9914023a64bd79485",
      "a7f28847a7524f23af49828acac0e947",
      "5b5160878fe44aad980e22af51cd4cac",
      "0020ea9994f54760bdd72e899e534934",
      "7d5f32c5fa3e4fffa72114dd99e03b9e",
      "b59ff36ada034f9a882fdb0f8f96db55",
      "be4cab7316c9458eb5d1456c54f267f5",
      "4c0c8c27087f4f0a9b26b2a2bb555891",
      "817d98319cb447609a24a7bd9da9ecc7",
      "b19a3ef2baa0401490e99b4d8d2e9581",
      "14d3e9f84a0641dbb882cebed4dfbe03",
      "e965a7678a7e4985b05fcfb83edc1d59",
      "0ec48bf6fb02486c8f4816a77d134142",
      "76427cc7c1dc4797abb6e635265d448b",
      "b7578f6b38ec411092f57586f7c0563f",
      "87533253720a4674a22b2302990259cb"
     ]
    },
    "id": "5XPIJlC0xO0T",
    "outputId": "b99c16bf-fb2e-4272-f24a-f69ff9284f2a",
    "tags": []
   },
   "outputs": [
    {
     "data": {
      "text/html": [
       "Tracking run with wandb version 0.15.3"
      ],
      "text/plain": [
       "<IPython.core.display.HTML object>"
      ]
     },
     "metadata": {},
     "output_type": "display_data"
    },
    {
     "data": {
      "text/html": [
       "Run data is saved locally in <code>/workspace/wandb/run-20230525_204417-tu4o0co7</code>"
      ],
      "text/plain": [
       "<IPython.core.display.HTML object>"
      ]
     },
     "metadata": {},
     "output_type": "display_data"
    },
    {
     "data": {
      "text/html": [
       "Syncing run <strong><a href='https://wandb.ai/ai-industry/cloud_diffusion/runs/tu4o0co7' target=\"_blank\">avid-thunder-12</a></strong> to <a href='https://wandb.ai/ai-industry/cloud_diffusion' target=\"_blank\">Weights & Biases</a> (<a href='https://wandb.me/run' target=\"_blank\">docs</a>)<br/>"
      ],
      "text/plain": [
       "<IPython.core.display.HTML object>"
      ]
     },
     "metadata": {},
     "output_type": "display_data"
    },
    {
     "data": {
      "text/html": [
       " View project at <a href='https://wandb.ai/ai-industry/cloud_diffusion' target=\"_blank\">https://wandb.ai/ai-industry/cloud_diffusion</a>"
      ],
      "text/plain": [
       "<IPython.core.display.HTML object>"
      ]
     },
     "metadata": {},
     "output_type": "display_data"
    },
    {
     "data": {
      "text/html": [
       " View run at <a href='https://wandb.ai/ai-industry/cloud_diffusion/runs/tu4o0co7' target=\"_blank\">https://wandb.ai/ai-industry/cloud_diffusion/runs/tu4o0co7</a>"
      ],
      "text/plain": [
       "<IPython.core.display.HTML object>"
      ]
     },
     "metadata": {},
     "output_type": "display_data"
    },
    {
     "name": "stderr",
     "output_type": "stream",
     "text": [
      "\u001b[34m\u001b[1mwandb\u001b[0m: Downloading large artifact sample_dataset:v0, 360.00MB. 30 files... \n",
      "\u001b[34m\u001b[1mwandb\u001b[0m:   30 of 30 files downloaded.  \n",
      "Done. 0:0:0.2\n"
     ]
    },
    {
     "data": {
      "text/html": [
       "\n",
       "<style>\n",
       "    /* Turns off some styling */\n",
       "    progress {\n",
       "        /* gets rid of default border in Firefox and Opera. */\n",
       "        border: none;\n",
       "        /* Needs to be in here for Safari polyfill so background images work as expected. */\n",
       "        background-size: auto;\n",
       "    }\n",
       "    progress:not([value]), progress:not([value])::-webkit-progress-bar {\n",
       "        background: repeating-linear-gradient(45deg, #7e7e7e, #7e7e7e 10px, #5c5c5c 10px, #5c5c5c 20px);\n",
       "    }\n",
       "    .progress-bar-interrupted, .progress-bar-interrupted::-webkit-progress-bar {\n",
       "        background: #F44336;\n",
       "    }\n",
       "</style>\n"
      ],
      "text/plain": [
       "<IPython.core.display.HTML object>"
      ]
     },
     "metadata": {},
     "output_type": "display_data"
    },
    {
     "data": {
      "text/html": [],
      "text/plain": [
       "<IPython.core.display.HTML object>"
      ]
     },
     "metadata": {},
     "output_type": "display_data"
    }
   ],
   "source": [
    "with wandb.init(project=PROJECT_NAME, entity='ai-industry', config=config, tags=[\"ddpm\", config.model_name]):\n",
    "    train_func(config)"
   ]
  }
 ],
 "metadata": {
  "accelerator": "GPU",
  "colab": {
   "gpuType": "T4",
   "provenance": []
  },
  "gpuClass": "standard",
  "kernelspec": {
   "display_name": "Python 3 (ipykernel)",
   "language": "python",
   "name": "python3"
  },
  "language_info": {
   "codemirror_mode": {
    "name": "ipython",
    "version": 3
   },
   "file_extension": ".py",
   "mimetype": "text/x-python",
   "name": "python",
   "nbconvert_exporter": "python",
   "pygments_lexer": "ipython3",
   "version": "3.10.10"
  },
  "widgets": {
   "application/vnd.jupyter.widget-state+json": {
    "0020ea9994f54760bdd72e899e534934": {
     "model_module": "@jupyter-widgets/base",
     "model_module_version": "1.2.0",
     "model_name": "LayoutModel",
     "state": {
      "_model_module": "@jupyter-widgets/base",
      "_model_module_version": "1.2.0",
      "_model_name": "LayoutModel",
      "_view_count": null,
      "_view_module": "@jupyter-widgets/base",
      "_view_module_version": "1.2.0",
      "_view_name": "LayoutView",
      "align_content": null,
      "align_items": null,
      "align_self": null,
      "border": null,
      "bottom": null,
      "display": null,
      "flex": null,
      "flex_flow": null,
      "grid_area": null,
      "grid_auto_columns": null,
      "grid_auto_flow": null,
      "grid_auto_rows": null,
      "grid_column": null,
      "grid_gap": null,
      "grid_row": null,
      "grid_template_areas": null,
      "grid_template_columns": null,
      "grid_template_rows": null,
      "height": null,
      "justify_content": null,
      "justify_items": null,
      "left": null,
      "margin": null,
      "max_height": null,
      "max_width": null,
      "min_height": null,
      "min_width": null,
      "object_fit": null,
      "object_position": null,
      "order": null,
      "overflow": null,
      "overflow_x": null,
      "overflow_y": null,
      "padding": null,
      "right": null,
      "top": null,
      "visibility": null,
      "width": null
     }
    },
    "0ec48bf6fb02486c8f4816a77d134142": {
     "model_module": "@jupyter-widgets/base",
     "model_module_version": "1.2.0",
     "model_name": "LayoutModel",
     "state": {
      "_model_module": "@jupyter-widgets/base",
      "_model_module_version": "1.2.0",
      "_model_name": "LayoutModel",
      "_view_count": null,
      "_view_module": "@jupyter-widgets/base",
      "_view_module_version": "1.2.0",
      "_view_name": "LayoutView",
      "align_content": null,
      "align_items": null,
      "align_self": null,
      "border": null,
      "bottom": null,
      "display": null,
      "flex": null,
      "flex_flow": null,
      "grid_area": null,
      "grid_auto_columns": null,
      "grid_auto_flow": null,
      "grid_auto_rows": null,
      "grid_column": null,
      "grid_gap": null,
      "grid_row": null,
      "grid_template_areas": null,
      "grid_template_columns": null,
      "grid_template_rows": null,
      "height": null,
      "justify_content": null,
      "justify_items": null,
      "left": null,
      "margin": null,
      "max_height": null,
      "max_width": null,
      "min_height": null,
      "min_width": null,
      "object_fit": null,
      "object_position": null,
      "order": null,
      "overflow": null,
      "overflow_x": null,
      "overflow_y": null,
      "padding": null,
      "right": null,
      "top": null,
      "visibility": null,
      "width": null
     }
    },
    "14d3e9f84a0641dbb882cebed4dfbe03": {
     "model_module": "@jupyter-widgets/controls",
     "model_module_version": "1.5.0",
     "model_name": "FloatProgressModel",
     "state": {
      "_dom_classes": [],
      "_model_module": "@jupyter-widgets/controls",
      "_model_module_version": "1.5.0",
      "_model_name": "FloatProgressModel",
      "_view_count": null,
      "_view_module": "@jupyter-widgets/controls",
      "_view_module_version": "1.5.0",
      "_view_name": "ProgressView",
      "bar_style": "",
      "description": "",
      "description_tooltip": null,
      "layout": "IPY_MODEL_b7578f6b38ec411092f57586f7c0563f",
      "max": 1,
      "min": 0,
      "orientation": "horizontal",
      "style": "IPY_MODEL_87533253720a4674a22b2302990259cb",
      "value": 0.9993770962032323
     }
    },
    "492bad3c69b142b9914023a64bd79485": {
     "model_module": "@jupyter-widgets/controls",
     "model_module_version": "1.5.0",
     "model_name": "VBoxModel",
     "state": {
      "_dom_classes": [],
      "_model_module": "@jupyter-widgets/controls",
      "_model_module_version": "1.5.0",
      "_model_name": "VBoxModel",
      "_view_count": null,
      "_view_module": "@jupyter-widgets/controls",
      "_view_module_version": "1.5.0",
      "_view_name": "VBoxView",
      "box_style": "",
      "children": [
       "IPY_MODEL_a7f28847a7524f23af49828acac0e947",
       "IPY_MODEL_5b5160878fe44aad980e22af51cd4cac"
      ],
      "layout": "IPY_MODEL_0020ea9994f54760bdd72e899e534934"
     }
    },
    "4c0c8c27087f4f0a9b26b2a2bb555891": {
     "model_module": "@jupyter-widgets/controls",
     "model_module_version": "1.5.0",
     "model_name": "ProgressStyleModel",
     "state": {
      "_model_module": "@jupyter-widgets/controls",
      "_model_module_version": "1.5.0",
      "_model_name": "ProgressStyleModel",
      "_view_count": null,
      "_view_module": "@jupyter-widgets/base",
      "_view_module_version": "1.2.0",
      "_view_name": "StyleView",
      "bar_color": null,
      "description_width": ""
     }
    },
    "5b5160878fe44aad980e22af51cd4cac": {
     "model_module": "@jupyter-widgets/controls",
     "model_module_version": "1.5.0",
     "model_name": "FloatProgressModel",
     "state": {
      "_dom_classes": [],
      "_model_module": "@jupyter-widgets/controls",
      "_model_module_version": "1.5.0",
      "_model_name": "FloatProgressModel",
      "_view_count": null,
      "_view_module": "@jupyter-widgets/controls",
      "_view_module_version": "1.5.0",
      "_view_name": "ProgressView",
      "bar_style": "",
      "description": "",
      "description_tooltip": null,
      "layout": "IPY_MODEL_be4cab7316c9458eb5d1456c54f267f5",
      "max": 1,
      "min": 0,
      "orientation": "horizontal",
      "style": "IPY_MODEL_4c0c8c27087f4f0a9b26b2a2bb555891",
      "value": 1
     }
    },
    "76427cc7c1dc4797abb6e635265d448b": {
     "model_module": "@jupyter-widgets/controls",
     "model_module_version": "1.5.0",
     "model_name": "DescriptionStyleModel",
     "state": {
      "_model_module": "@jupyter-widgets/controls",
      "_model_module_version": "1.5.0",
      "_model_name": "DescriptionStyleModel",
      "_view_count": null,
      "_view_module": "@jupyter-widgets/base",
      "_view_module_version": "1.2.0",
      "_view_name": "StyleView",
      "description_width": ""
     }
    },
    "7d5f32c5fa3e4fffa72114dd99e03b9e": {
     "model_module": "@jupyter-widgets/base",
     "model_module_version": "1.2.0",
     "model_name": "LayoutModel",
     "state": {
      "_model_module": "@jupyter-widgets/base",
      "_model_module_version": "1.2.0",
      "_model_name": "LayoutModel",
      "_view_count": null,
      "_view_module": "@jupyter-widgets/base",
      "_view_module_version": "1.2.0",
      "_view_name": "LayoutView",
      "align_content": null,
      "align_items": null,
      "align_self": null,
      "border": null,
      "bottom": null,
      "display": null,
      "flex": null,
      "flex_flow": null,
      "grid_area": null,
      "grid_auto_columns": null,
      "grid_auto_flow": null,
      "grid_auto_rows": null,
      "grid_column": null,
      "grid_gap": null,
      "grid_row": null,
      "grid_template_areas": null,
      "grid_template_columns": null,
      "grid_template_rows": null,
      "height": null,
      "justify_content": null,
      "justify_items": null,
      "left": null,
      "margin": null,
      "max_height": null,
      "max_width": null,
      "min_height": null,
      "min_width": null,
      "object_fit": null,
      "object_position": null,
      "order": null,
      "overflow": null,
      "overflow_x": null,
      "overflow_y": null,
      "padding": null,
      "right": null,
      "top": null,
      "visibility": null,
      "width": null
     }
    },
    "817d98319cb447609a24a7bd9da9ecc7": {
     "model_module": "@jupyter-widgets/controls",
     "model_module_version": "1.5.0",
     "model_name": "VBoxModel",
     "state": {
      "_dom_classes": [],
      "_model_module": "@jupyter-widgets/controls",
      "_model_module_version": "1.5.0",
      "_model_name": "VBoxModel",
      "_view_count": null,
      "_view_module": "@jupyter-widgets/controls",
      "_view_module_version": "1.5.0",
      "_view_name": "VBoxView",
      "box_style": "",
      "children": [
       "IPY_MODEL_b19a3ef2baa0401490e99b4d8d2e9581",
       "IPY_MODEL_14d3e9f84a0641dbb882cebed4dfbe03"
      ],
      "layout": "IPY_MODEL_e965a7678a7e4985b05fcfb83edc1d59"
     }
    },
    "87533253720a4674a22b2302990259cb": {
     "model_module": "@jupyter-widgets/controls",
     "model_module_version": "1.5.0",
     "model_name": "ProgressStyleModel",
     "state": {
      "_model_module": "@jupyter-widgets/controls",
      "_model_module_version": "1.5.0",
      "_model_name": "ProgressStyleModel",
      "_view_count": null,
      "_view_module": "@jupyter-widgets/base",
      "_view_module_version": "1.2.0",
      "_view_name": "StyleView",
      "bar_color": null,
      "description_width": ""
     }
    },
    "a7f28847a7524f23af49828acac0e947": {
     "model_module": "@jupyter-widgets/controls",
     "model_module_version": "1.5.0",
     "model_name": "LabelModel",
     "state": {
      "_dom_classes": [],
      "_model_module": "@jupyter-widgets/controls",
      "_model_module_version": "1.5.0",
      "_model_name": "LabelModel",
      "_view_count": null,
      "_view_module": "@jupyter-widgets/controls",
      "_view_module_version": "1.5.0",
      "_view_name": "LabelView",
      "description": "",
      "description_tooltip": null,
      "layout": "IPY_MODEL_7d5f32c5fa3e4fffa72114dd99e03b9e",
      "placeholder": "​",
      "style": "IPY_MODEL_b59ff36ada034f9a882fdb0f8f96db55",
      "value": "Waiting for wandb.init()...\r"
     }
    },
    "b19a3ef2baa0401490e99b4d8d2e9581": {
     "model_module": "@jupyter-widgets/controls",
     "model_module_version": "1.5.0",
     "model_name": "LabelModel",
     "state": {
      "_dom_classes": [],
      "_model_module": "@jupyter-widgets/controls",
      "_model_module_version": "1.5.0",
      "_model_name": "LabelModel",
      "_view_count": null,
      "_view_module": "@jupyter-widgets/controls",
      "_view_module_version": "1.5.0",
      "_view_name": "LabelView",
      "description": "",
      "description_tooltip": null,
      "layout": "IPY_MODEL_0ec48bf6fb02486c8f4816a77d134142",
      "placeholder": "​",
      "style": "IPY_MODEL_76427cc7c1dc4797abb6e635265d448b",
      "value": "16.179 MB of 16.189 MB uploaded (0.000 MB deduped)\r"
     }
    },
    "b59ff36ada034f9a882fdb0f8f96db55": {
     "model_module": "@jupyter-widgets/controls",
     "model_module_version": "1.5.0",
     "model_name": "DescriptionStyleModel",
     "state": {
      "_model_module": "@jupyter-widgets/controls",
      "_model_module_version": "1.5.0",
      "_model_name": "DescriptionStyleModel",
      "_view_count": null,
      "_view_module": "@jupyter-widgets/base",
      "_view_module_version": "1.2.0",
      "_view_name": "StyleView",
      "description_width": ""
     }
    },
    "b7578f6b38ec411092f57586f7c0563f": {
     "model_module": "@jupyter-widgets/base",
     "model_module_version": "1.2.0",
     "model_name": "LayoutModel",
     "state": {
      "_model_module": "@jupyter-widgets/base",
      "_model_module_version": "1.2.0",
      "_model_name": "LayoutModel",
      "_view_count": null,
      "_view_module": "@jupyter-widgets/base",
      "_view_module_version": "1.2.0",
      "_view_name": "LayoutView",
      "align_content": null,
      "align_items": null,
      "align_self": null,
      "border": null,
      "bottom": null,
      "display": null,
      "flex": null,
      "flex_flow": null,
      "grid_area": null,
      "grid_auto_columns": null,
      "grid_auto_flow": null,
      "grid_auto_rows": null,
      "grid_column": null,
      "grid_gap": null,
      "grid_row": null,
      "grid_template_areas": null,
      "grid_template_columns": null,
      "grid_template_rows": null,
      "height": null,
      "justify_content": null,
      "justify_items": null,
      "left": null,
      "margin": null,
      "max_height": null,
      "max_width": null,
      "min_height": null,
      "min_width": null,
      "object_fit": null,
      "object_position": null,
      "order": null,
      "overflow": null,
      "overflow_x": null,
      "overflow_y": null,
      "padding": null,
      "right": null,
      "top": null,
      "visibility": null,
      "width": null
     }
    },
    "be4cab7316c9458eb5d1456c54f267f5": {
     "model_module": "@jupyter-widgets/base",
     "model_module_version": "1.2.0",
     "model_name": "LayoutModel",
     "state": {
      "_model_module": "@jupyter-widgets/base",
      "_model_module_version": "1.2.0",
      "_model_name": "LayoutModel",
      "_view_count": null,
      "_view_module": "@jupyter-widgets/base",
      "_view_module_version": "1.2.0",
      "_view_name": "LayoutView",
      "align_content": null,
      "align_items": null,
      "align_self": null,
      "border": null,
      "bottom": null,
      "display": null,
      "flex": null,
      "flex_flow": null,
      "grid_area": null,
      "grid_auto_columns": null,
      "grid_auto_flow": null,
      "grid_auto_rows": null,
      "grid_column": null,
      "grid_gap": null,
      "grid_row": null,
      "grid_template_areas": null,
      "grid_template_columns": null,
      "grid_template_rows": null,
      "height": null,
      "justify_content": null,
      "justify_items": null,
      "left": null,
      "margin": null,
      "max_height": null,
      "max_width": null,
      "min_height": null,
      "min_width": null,
      "object_fit": null,
      "object_position": null,
      "order": null,
      "overflow": null,
      "overflow_x": null,
      "overflow_y": null,
      "padding": null,
      "right": null,
      "top": null,
      "visibility": null,
      "width": null
     }
    },
    "e965a7678a7e4985b05fcfb83edc1d59": {
     "model_module": "@jupyter-widgets/base",
     "model_module_version": "1.2.0",
     "model_name": "LayoutModel",
     "state": {
      "_model_module": "@jupyter-widgets/base",
      "_model_module_version": "1.2.0",
      "_model_name": "LayoutModel",
      "_view_count": null,
      "_view_module": "@jupyter-widgets/base",
      "_view_module_version": "1.2.0",
      "_view_name": "LayoutView",
      "align_content": null,
      "align_items": null,
      "align_self": null,
      "border": null,
      "bottom": null,
      "display": null,
      "flex": null,
      "flex_flow": null,
      "grid_area": null,
      "grid_auto_columns": null,
      "grid_auto_flow": null,
      "grid_auto_rows": null,
      "grid_column": null,
      "grid_gap": null,
      "grid_row": null,
      "grid_template_areas": null,
      "grid_template_columns": null,
      "grid_template_rows": null,
      "height": null,
      "justify_content": null,
      "justify_items": null,
      "left": null,
      "margin": null,
      "max_height": null,
      "max_width": null,
      "min_height": null,
      "min_width": null,
      "object_fit": null,
      "object_position": null,
      "order": null,
      "overflow": null,
      "overflow_x": null,
      "overflow_y": null,
      "padding": null,
      "right": null,
      "top": null,
      "visibility": null,
      "width": null
     }
    }
   }
  }
 },
 "nbformat": 4,
 "nbformat_minor": 4
}
