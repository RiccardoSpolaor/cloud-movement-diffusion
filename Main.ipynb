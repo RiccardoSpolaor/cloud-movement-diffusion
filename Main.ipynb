{
 "cells": [
  {
   "attachments": {},
   "cell_type": "markdown",
   "metadata": {},
   "source": [
    "# Dataset"
   ]
  },
  {
   "cell_type": "code",
   "execution_count": 1,
   "metadata": {},
   "outputs": [],
   "source": [
    "from pathlib import Path\n",
    "\n",
    "def ls(path: Path): \n",
    "    \"Return files on Path, sorted\"\n",
    "    return sorted(list(path.iterdir()))"
   ]
  },
  {
   "cell_type": "code",
   "execution_count": 2,
   "metadata": {},
   "outputs": [
    {
     "name": "stderr",
     "output_type": "stream",
     "text": [
      "c:\\Users\\riccardo\\AppData\\Local\\Programs\\Python\\Python310\\lib\\site-packages\\torchvision\\io\\image.py:13: UserWarning: Failed to load image Python extension: '[WinError 127] Impossibile trovare la procedura specificata'If you don't plan on using image functionality from `torchvision.io`, you can ignore this warning. Otherwise, there might be something wrong with your environment. Did you have `libjpeg` or `libpng` installed before building `torchvision` from source?\n",
      "  warn(\n"
     ]
    }
   ],
   "source": [
    "from pathlib import Path\n",
    "\n",
    "import numpy as np\n",
    "import torch\n",
    "import torchvision.transforms as T\n",
    "import wandb\n",
    "from tqdm import tqdm as progress_bar\n",
    "\n",
    "# from cloud_diffusion.utils import ls\n",
    "\n",
    "PROJECT_NAME = \"ddpm_clouds\"\n",
    "DATASET_ARTIFACT = 'capecape/gtc/np_dataset:v0'\n",
    "\n",
    "class DummyNextFrameDataset:\n",
    "    \"Dataset that returns random images\"\n",
    "    def __init__(self, num_frames=4, img_size=64, N=1000):\n",
    "        self.img_size = img_size\n",
    "        self.num_frames = num_frames\n",
    "        self.N = N\n",
    "\n",
    "    def __getitem__(self, idx):\n",
    "        return torch.randn(self.num_frames, self.img_size, self.img_size)\n",
    "    \n",
    "    def __len__(self):\n",
    "        return self.N\n",
    "\n",
    "\n",
    "class CloudDataset:\n",
    "    \"\"\"Dataset for cloud images\n",
    "    It loads numpy files from wandb artifact and stacks them into a single array\n",
    "    It also applies some transformations to the images\n",
    "    \"\"\"\n",
    "    def __init__(self, \n",
    "                 files, # list of numpy files to load (they come from the artifact)\n",
    "                 num_frames=4, # how many consecutive frames to stack\n",
    "                 scale=True, # if we images to interval [-0.5, 0.5]\n",
    "                 img_size=64, # resize dim, original images are big (446, 780)\n",
    "                 valid=False, # if True, transforms are deterministic\n",
    "                ):\n",
    "        \n",
    "        tfms = [T.Resize((img_size, int(img_size*1.7)))] if img_size is not None else []\n",
    "        tfms += [T.RandomCrop(img_size)] if not valid else [T.CenterCrop(img_size)]\n",
    "        self.tfms = T.Compose(tfms)\n",
    "        self.load_data(files, num_frames, scale)\n",
    "        \n",
    "    def load_day(self, file, scale=True):\n",
    "        one_day = np.load(file)\n",
    "        if scale:\n",
    "            one_day = 0.5 - self._scale(one_day)\n",
    "        return one_day\n",
    "\n",
    "    def load_data(self, files, num_frames, scale):\n",
    "        \"Loads all data into a single array self.data\"\n",
    "        data = []\n",
    "        for file in progress_bar(files, leave=False):\n",
    "            one_day = self.load_day(file, scale)\n",
    "            wds = np.lib.stride_tricks.sliding_window_view(\n",
    "                one_day.squeeze(), \n",
    "                num_frames, \n",
    "                axis=0).transpose((0,3,1,2))\n",
    "            data.append(wds)\n",
    "            # pbar.comment = f\"Creating CloudDataset from {file}\"\n",
    "        self.data = np.concatenate(data, axis=0)\n",
    "\n",
    "    def shuffle(self):\n",
    "        \"\"\"Shuffles the dataset, useful for getting \n",
    "        interesting samples on the validation dataset\"\"\"\n",
    "        idxs = torch.randperm(len(self.data))\n",
    "        self.data = self.data[idxs]\n",
    "        return self\n",
    "\n",
    "    @staticmethod\n",
    "    def _scale(arr):\n",
    "        \"Scales values of array in [0,1]\"\n",
    "        m, M = arr.min(), arr.max()\n",
    "        return (arr - m) / (M - m)\n",
    "    \n",
    "    def __getitem__(self, idx):\n",
    "        return self.tfms(torch.from_numpy(self.data[idx]))\n",
    "    \n",
    "    def __len__(self): return len(self.data)\n",
    "\n",
    "    def save(self, fname=\"cloud_frames.npy\"):\n",
    "        np.save(fname, self.data)\n",
    "\n",
    "\n",
    "class CloudDatasetInference(CloudDataset):\n",
    "     def load_data(self, files, num_frames=None, scale=None):\n",
    "        \"Loads all data into a single array self.data\"\n",
    "        data = []\n",
    "        max_length = 100\n",
    "        for file in files:\n",
    "            one_day = self.load_day(file, scale)\n",
    "            data.append(one_day)\n",
    "            max_length = min(max_length, len(one_day))\n",
    "        self.data = np.stack([d[:max_length] for d in data], axis=0).squeeze()\n",
    "\n",
    "\n",
    "def download_dataset(at_name, project_name):\n",
    "    \"Downloads dataset from wandb artifact\"\n",
    "    def _get_dataset(run):\n",
    "        artifact = run.use_artifact(at_name, type='dataset')\n",
    "        return artifact.download()\n",
    "\n",
    "    if wandb.run is not None:\n",
    "        run = wandb.run\n",
    "        artifact_dir = _get_dataset(run)\n",
    "    else:\n",
    "        run = wandb.init(project=project_name, job_type=\"download_dataset\")\n",
    "        artifact_dir = _get_dataset(run)\n",
    "        run.finish()\n",
    "\n",
    "    files = ls(Path(artifact_dir))\n",
    "    return files\n"
   ]
  },
  {
   "cell_type": "code",
   "execution_count": 3,
   "metadata": {},
   "outputs": [
    {
     "name": "stderr",
     "output_type": "stream",
     "text": [
      "Failed to detect the name of this notebook, you can set it manually with the WANDB_NOTEBOOK_NAME environment variable to enable code saving.\n",
      "\u001b[34m\u001b[1mwandb\u001b[0m: Logging into wandb.ai. (Learn how to deploy a W&B server locally: https://wandb.me/wandb-server)\n",
      "\u001b[34m\u001b[1mwandb\u001b[0m: You can find your API key in your browser here: https://wandb.ai/authorize\n",
      "\u001b[34m\u001b[1mwandb\u001b[0m: Paste an API key from your profile and hit enter, or press ctrl+c to quit:\u001b[34m\u001b[1mwandb\u001b[0m: Appending key for api.wandb.ai to your netrc file: C:\\Users\\riccardo/.netrc\n"
     ]
    },
    {
     "data": {
      "text/html": [
       "wandb version 0.15.3 is available!  To upgrade, please run:\n",
       " $ pip install wandb --upgrade"
      ],
      "text/plain": [
       "<IPython.core.display.HTML object>"
      ]
     },
     "metadata": {},
     "output_type": "display_data"
    },
    {
     "data": {
      "text/html": [
       "Tracking run with wandb version 0.12.21"
      ],
      "text/plain": [
       "<IPython.core.display.HTML object>"
      ]
     },
     "metadata": {},
     "output_type": "display_data"
    },
    {
     "data": {
      "text/html": [
       "Run data is saved locally in <code>c:\\Users\\riccardo\\Desktop\\cloud-movement-diffusion\\wandb\\run-20230522_152458-2jhwwcb3</code>"
      ],
      "text/plain": [
       "<IPython.core.display.HTML object>"
      ]
     },
     "metadata": {},
     "output_type": "display_data"
    },
    {
     "data": {
      "text/html": [
       "Syncing run <strong><a href=\"https://wandb.ai/ai-industry/ddpm_clouds/runs/2jhwwcb3\" target=\"_blank\">summer-haze-1</a></strong> to <a href=\"https://wandb.ai/ai-industry/ddpm_clouds\" target=\"_blank\">Weights & Biases</a> (<a href=\"https://wandb.me/run\" target=\"_blank\">docs</a>)<br/>"
      ],
      "text/plain": [
       "<IPython.core.display.HTML object>"
      ]
     },
     "metadata": {},
     "output_type": "display_data"
    },
    {
     "name": "stderr",
     "output_type": "stream",
     "text": [
      "\u001b[34m\u001b[1mwandb\u001b[0m: Downloading large artifact np_dataset:v0, 3816.62MB. 30 files... Done. 0:7:5.2\n"
     ]
    },
    {
     "data": {
      "text/html": [
       "Waiting for W&B process to finish... <strong style=\"color:green\">(success).</strong>"
      ],
      "text/plain": [
       "<IPython.core.display.HTML object>"
      ]
     },
     "metadata": {},
     "output_type": "display_data"
    },
    {
     "data": {
      "application/vnd.jupyter.widget-view+json": {
       "model_id": "73543df6f99c4da4a155df4e2565edd3",
       "version_major": 2,
       "version_minor": 0
      },
      "text/plain": [
       "VBox(children=(Label(value='0.001 MB of 0.001 MB uploaded (0.000 MB deduped)\\r'), FloatProgress(value=1.0, max…"
      ]
     },
     "metadata": {},
     "output_type": "display_data"
    },
    {
     "data": {
      "text/html": [
       "Synced <strong style=\"color:#cdcd00\">summer-haze-1</strong>: <a href=\"https://wandb.ai/ai-industry/ddpm_clouds/runs/2jhwwcb3\" target=\"_blank\">https://wandb.ai/ai-industry/ddpm_clouds/runs/2jhwwcb3</a><br/>Synced 5 W&B file(s), 0 media file(s), 0 artifact file(s) and 0 other file(s)"
      ],
      "text/plain": [
       "<IPython.core.display.HTML object>"
      ]
     },
     "metadata": {},
     "output_type": "display_data"
    },
    {
     "data": {
      "text/html": [
       "Find logs at: <code>.\\wandb\\run-20230522_152458-2jhwwcb3\\logs</code>"
      ],
      "text/plain": [
       "<IPython.core.display.HTML object>"
      ]
     },
     "metadata": {},
     "output_type": "display_data"
    },
    {
     "name": "stderr",
     "output_type": "stream",
     "text": [
      "                                               \r"
     ]
    },
    {
     "name": "stdout",
     "output_type": "stream",
     "text": [
      "Let's grab 5 samples: torch.Size([5, 4, 64, 64])\n"
     ]
    },
    {
     "name": "stderr",
     "output_type": "stream",
     "text": [
      "c:\\Users\\riccardo\\AppData\\Local\\Programs\\Python\\Python310\\lib\\site-packages\\torchvision\\transforms\\functional.py:1603: UserWarning: The default value of the antialias parameter of all the resizing transforms (Resize(), RandomResizedCrop(), etc.) will change from None to True in v0.17, in order to be consistent across the PIL and Tensor backends. To suppress this warning, directly pass antialias=True (recommended, future default), antialias=None (current default, which means False for Tensors and True for PIL), or antialias=False (only works on Tensors - PIL will still use antialiasing). This also applies if you are using the inference transforms from the models weights: update the call to weights.transforms(antialias=True).\n",
      "  warnings.warn(\n"
     ]
    }
   ],
   "source": [
    "files = download_dataset(DATASET_ARTIFACT, project_name=PROJECT_NAME)\n",
    "train_ds = CloudDataset(files)\n",
    "print(f\"Let's grab 5 samples: {train_ds[0:5].shape}\")"
   ]
  },
  {
   "cell_type": "code",
   "execution_count": 7,
   "metadata": {},
   "outputs": [
    {
     "name": "stderr",
     "output_type": "stream",
     "text": [
      "c:\\Users\\riccardo\\AppData\\Local\\Programs\\Python\\Python310\\lib\\site-packages\\torchvision\\transforms\\functional.py:1603: UserWarning: The default value of the antialias parameter of all the resizing transforms (Resize(), RandomResizedCrop(), etc.) will change from None to True in v0.17, in order to be consistent across the PIL and Tensor backends. To suppress this warning, directly pass antialias=True (recommended, future default), antialias=None (current default, which means False for Tensors and True for PIL), or antialias=False (only works on Tensors - PIL will still use antialiasing). This also applies if you are using the inference transforms from the models weights: update the call to weights.transforms(antialias=True).\n",
      "  warnings.warn(\n"
     ]
    },
    {
     "data": {
      "text/plain": [
       "torch.Size([4, 64, 64])"
      ]
     },
     "execution_count": 7,
     "metadata": {},
     "output_type": "execute_result"
    }
   ],
   "source": [
    "train_ds[0].shape"
   ]
  },
  {
   "cell_type": "code",
   "execution_count": 8,
   "metadata": {},
   "outputs": [
    {
     "data": {
      "text/plain": [
       "<matplotlib.image.AxesImage at 0x26e051168c0>"
      ]
     },
     "execution_count": 8,
     "metadata": {},
     "output_type": "execute_result"
    },
    {
     "data": {
      "image/png": "[encoded data removed]",
      "text/plain": [
       "<Figure size 640x480 with 1 Axes>"
      ]
     },
     "metadata": {},
     "output_type": "display_data"
    }
   ],
   "source": [
    "# Show the first sample image of the training dataset\n",
    "import matplotlib.pyplot as plt\n",
    "\n",
    "plt.imshow(train_ds[0][0], cmap='gray')"
   ]
  },
  {
   "cell_type": "code",
   "execution_count": null,
   "metadata": {},
   "outputs": [],
   "source": []
  },
  {
   "attachments": {},
   "cell_type": "markdown",
   "metadata": {},
   "source": [
    "# Model"
   ]
  },
  {
   "cell_type": "code",
   "execution_count": 9,
   "metadata": {},
   "outputs": [
    {
     "data": {
      "text/plain": [
       "'1.13.1+cu117'"
      ]
     },
     "execution_count": 9,
     "metadata": {},
     "output_type": "execute_result"
    }
   ],
   "source": [
    "torch.__version__"
   ]
  },
  {
   "cell_type": "code",
   "execution_count": null,
   "metadata": {},
   "outputs": [],
   "source": [
    "from pathlib import Path\n",
    "\n",
    "import wandb\n",
    "import fastcore.all as fc\n",
    "\n",
    "import torch\n",
    "from torch import nn\n",
    "from diffusers import UNet2DModel\n",
    "\n",
    "try:\n",
    "    from denoising_diffusion_pytorch.simple_diffusion import UViT\n",
    "except:\n",
    "    raise ImportError(\"Please install denoising_diffusion_pytorch with `pip install denoising_diffusion_pytorch`\")\n",
    "\n",
    "\n",
    "def init_unet(model):\n",
    "    \"From Jeremy's bag of tricks on fastai V2 2023\"\n",
    "    for o in model.down_blocks:\n",
    "        for p in o.resnets:\n",
    "            p.conv2.weight.data.zero_()\n",
    "            for p in fc.L(o.downsamplers): nn.init.orthogonal_(p.conv.weight)\n",
    "\n",
    "    for o in model.up_blocks:\n",
    "        for p in o.resnets: p.conv2.weight.data.zero_()\n",
    "\n",
    "    model.conv_out.weight.data.zero_()\n",
    "\n",
    "class WandbModel:\n",
    "    \"A model that can be saved to wandb\"\n",
    "    @classmethod\n",
    "    def from_checkpoint(cls, model_params, checkpoint_file):\n",
    "        \"Load a UNet2D model from a checkpoint file\"\n",
    "        model = cls(**model_params)\n",
    "        print(f\"Loading model from: {checkpoint_file}\")\n",
    "        model.load_state_dict(torch.load(checkpoint_file))\n",
    "        return model\n",
    "\n",
    "    @classmethod\n",
    "    def from_artifact(cls, model_params, artifact_name):\n",
    "        \"Load a UNet2D model from a wandb.Artifact, need to be run in a wandb run\"\n",
    "        artifact = wandb.use_artifact(artifact_name, type='model')\n",
    "        artifact_dir = Path(artifact.download())\n",
    "        chpt_file = list(artifact_dir.glob(\"*.pth\"))[0]\n",
    "        return cls.from_checkpoint(model_params, chpt_file)\n",
    "\n",
    "def get_unet_params(model_name=\"unet_small\", num_frames=4):\n",
    "    \"Return the parameters for the diffusers UNet2d model\"\n",
    "    if model_name == \"unet_small\":\n",
    "        return dict(\n",
    "            block_out_channels=(16, 32, 64, 128), # number of channels for each block\n",
    "            norm_num_groups=8, # number of groups for the normalization layer\n",
    "            in_channels=num_frames, # number of input channels\n",
    "            out_channels=1, # number of output channels\n",
    "            )\n",
    "    elif model_name == \"unet_big\":\n",
    "        return dict(\n",
    "            block_out_channels=(32, 64, 128, 256), # number of channels for each block\n",
    "            norm_num_groups=8, # number of groups for the normalization layer\n",
    "            in_channels=num_frames, # number of input channels\n",
    "            out_channels=1, # number of output channels\n",
    "            )\n",
    "    else:\n",
    "        raise(f\"Model name not found: {model_name}, choose between 'unet_small' or 'unet_big'\")\n",
    "\n",
    "class UNet2D(UNet2DModel, WandbModel):\n",
    "    def __init__(self, *x, **kwargs):\n",
    "        super().__init__(*x, **kwargs)\n",
    "        init_unet(self)\n",
    "\n",
    "    def forward(self, *x, **kwargs):\n",
    "        return super().forward(*x, **kwargs).sample ## Diffusers's UNet2DOutput class\n",
    "\n",
    "\n",
    "## Simple Diffusion paper\n",
    "\n",
    "def get_uvit_params(model_name=\"uvit_small\", num_frames=4):\n",
    "    \"Return the parameters for the diffusers UViT model\"\n",
    "    if model_name == \"uvit_small\":\n",
    "        return dict(\n",
    "            dim=512,\n",
    "            ff_mult=2,\n",
    "            vit_depth=4,\n",
    "            channels=4, \n",
    "            patch_size=4,\n",
    "            final_img_itransform=nn.Conv2d(num_frames,1,1)\n",
    "            )\n",
    "    elif model_name == \"uvit_big\":\n",
    "        return dict(\n",
    "            dim=1024,\n",
    "            ff_mult=4,\n",
    "            vit_depth=8,\n",
    "            channels=4, \n",
    "            patch_size=4,\n",
    "            final_img_itransform=nn.Conv2d(num_frames,1,1)\n",
    "            )\n",
    "    else:\n",
    "        raise(f\"Model name not found: {model_name}, choose between 'uvit_small' or 'uvit_big'\")\n",
    "\n",
    "class UViTModel(UViT, WandbModel): pass"
   ]
  }
 ],
 "metadata": {
  "kernelspec": {
   "display_name": "Python 3",
   "language": "python",
   "name": "python3"
  },
  "language_info": {
   "codemirror_mode": {
    "name": "ipython",
    "version": 3
   },
   "file_extension": ".py",
   "mimetype": "text/x-python",
   "name": "python",
   "nbconvert_exporter": "python",
   "pygments_lexer": "ipython3",
   "version": "3.10.0"
  },
  "orig_nbformat": 4
 },
 "nbformat": 4,
 "nbformat_minor": 2
}
