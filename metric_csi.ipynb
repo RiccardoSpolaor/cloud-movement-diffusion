{
 "cells": [
  {
   "cell_type": "code",
   "execution_count": 22,
   "metadata": {},
   "outputs": [],
   "source": [
    "from typing import List\n",
    "import torch\n",
    "from torch import nn\n",
    "\n",
    "class mCSI(nn.Module):\n",
    "    \"\"\"Compute the critical success index (CSI) score.\"\"\"\n",
    "    def __init__(self, thresholds: List[float] = [ 16., 74., 133. ], eps: float = 1e-4) -> None:\n",
    "        super().__init__()\n",
    "        self.thresholds = thresholds\n",
    "        self.eps = eps\n",
    "    \n",
    "    @staticmethod\n",
    "    def _threshold(y_true: torch.FloatTensor, y_pred: torch.FloatTensor, threshold: float) -> torch.FloatTensor:\n",
    "        \"\"\"Apply a threshold to both the target and the prediction tensors.\n",
    "\n",
    "        Parameters\n",
    "        ----------\n",
    "        y_true : FloatTensor\n",
    "            The target tensor.\n",
    "        y_pred : FloatTensor\n",
    "            The prediction tensor.\n",
    "        threshold : float\n",
    "            The threshold to apply.\n",
    "\n",
    "        Returns\n",
    "        -------\n",
    "        FloatTensor\n",
    "            The thresholded target tensor.\n",
    "        FloatTensor\n",
    "            The thresholded prediction tensor.\n",
    "        \"\"\"\n",
    "    \n",
    "        y_true_res = (y_true >= threshold).float()\n",
    "        y_pred_res = (y_pred >= threshold).float()\n",
    "\n",
    "        is_nan = torch.isnan(y_true) | torch.isnan(y_pred)\n",
    "\n",
    "        y_true_res[is_nan] = 0\n",
    "        y_pred_res[is_nan] = 0\n",
    "\n",
    "        return y_true_res, y_pred_res\n",
    "\n",
    "    def forward(self, pred, target):\n",
    "        \"\"\"\n",
    "        Compute the critical success index (CSI) score.\n",
    "         \n",
    "        Parameters\n",
    "        ----------\n",
    "        pred, target:   torch.Tensor\n",
    "            shape = (batch_size, seq_len, height, width)\n",
    "        \"\"\"\n",
    "        results = 0.\n",
    "\n",
    "        with torch.no_grad():\n",
    "            for thresh in self.thresholds:\n",
    "                target, pred = self._threshold(target, pred, thresh)\n",
    "                hits = torch.sum(target * pred, dim=(-3)).int()\n",
    "                misses = torch.sum(target * (1 - pred), dim=(-3)).int()\n",
    "                fas = torch.sum((1 - target) * pred, dim=(-3)).int()\n",
    "                csi = hits / (hits + misses + fas + self.eps)\n",
    "                results += csi.mean()\n",
    "\n",
    "        return results / len(self.thresholds)"
   ]
  },
  {
   "cell_type": "code",
   "execution_count": null,
   "metadata": {},
   "outputs": [],
   "source": []
  },
  {
   "cell_type": "code",
   "execution_count": 23,
   "metadata": {},
   "outputs": [
    {
     "name": "stderr",
     "output_type": "stream",
     "text": [
      "\u001b[34m\u001b[1mwandb\u001b[0m: \u001b[33mWARNING\u001b[0m If you're specifying your api key in code, ensure this code is not shared publicly.\n",
      "\u001b[34m\u001b[1mwandb\u001b[0m: \u001b[33mWARNING\u001b[0m Consider setting the WANDB_API_KEY environment variable, or running `wandb login` from the command line.\n",
      "\u001b[34m\u001b[1mwandb\u001b[0m: Appending key for api.wandb.ai to your netrc file: C:\\Users\\riccardo/.netrc\n"
     ]
    },
    {
     "data": {
      "text/plain": [
       "True"
      ]
     },
     "execution_count": 23,
     "metadata": {},
     "output_type": "execute_result"
    }
   ],
   "source": [
    "import wandb\n",
    "wandb.login(key='d3d31786e16c5dffe9ee01690d0bb069cac55e84', relogin=True, force=True)"
   ]
  },
  {
   "cell_type": "code",
   "execution_count": 24,
   "metadata": {},
   "outputs": [],
   "source": [
    "from pathlib import Path\n",
    "\n",
    "def ls(path: Path): \n",
    "    \"Return files on Path, sorted\"\n",
    "    return sorted(list(path.iterdir()))"
   ]
  },
  {
   "cell_type": "code",
   "execution_count": 25,
   "metadata": {},
   "outputs": [],
   "source": [
    "from pathlib import Path\n",
    "\n",
    "import numpy as np\n",
    "import torch\n",
    "import torchvision.transforms as T\n",
    "import wandb\n",
    "from tqdm import tqdm as progress_bar\n",
    "import cv2\n",
    "\n",
    "# from cloud_diffusion.utils import ls\n",
    "\n",
    "PROJECT_NAME = \"cloud_diffusion\"\n",
    "DATASET_ARTIFACT = 'ai-industry/cloud_diffusion/SEVIR:v0'\n",
    "\n",
    "class DummyNextFrameDataset:\n",
    "    \"Dataset that returns random images\"\n",
    "    def __init__(self, num_frames=4, img_size=64, N=1000):\n",
    "        self.img_size = img_size\n",
    "        self.num_frames = num_frames\n",
    "        self.N = N\n",
    "\n",
    "    def __getitem__(self, idx):\n",
    "        return torch.randn(self.num_frames, self.img_size, self.img_size)\n",
    "    \n",
    "    def __len__(self):\n",
    "        return self.N\n",
    "\n",
    "\n",
    "class CloudDataset:\n",
    "    \"\"\"Dataset for cloud images\n",
    "    It loads numpy files from wandb artifact and stacks them into a single array\n",
    "    It also applies some transformations to the images\n",
    "    \"\"\"\n",
    "    def __init__(self, \n",
    "                 files, # list of numpy files to load (they come from the artifact)\n",
    "                 num_frames=4, # how many consecutive frames to stack\n",
    "                 scale=True, # if we images to interval [-0.5, 0.5]\n",
    "                 img_size=64, # resize dim, original images are big (446, 780)\n",
    "                 valid=False, # if True, transforms are deterministic\n",
    "                ):\n",
    "        #self.means=[]\n",
    "        #self.stds=[]\n",
    "        #tfms = [T.Normalize(self.means, self.stds)]\n",
    "        tfms = [T.RandomCrop(img_size)] if not valid else [T.CenterCrop(img_size)]\n",
    "        self.tfms = T.Compose(tfms)\n",
    "        self.load_data(files, num_frames, scale)\n",
    "\n",
    "        \n",
    "    def _scale(self, arr):\n",
    "        \"Scales values of array in [0,1]\"\n",
    "        m, M = arr.min(), arr.max()\n",
    "        return (arr - m) / (M - m)\n",
    "\n",
    "    def _calculate_mean_std(self, arr):\n",
    "        \"Calculate mean and std for normalization\"\n",
    "        mean, std = arr.mean(), arr.std()\n",
    "        self.means.append(mean)\n",
    "        self.stds.append(std)\n",
    "\n",
    "    def _resize(self, arr, img_size):\n",
    "        num_events, num_frames = arr.shape[0], arr.shape[3]\n",
    "        resized_array = np.empty((num_events, img_size, img_size, num_frames))\n",
    "        for event in range(num_events):\n",
    "            resized_array[event] = cv2.resize(arr[event], (img_size, img_size))\n",
    "        return resized_array.transpose((0, 3, 1, 2))\n",
    "    \n",
    "    def load_channel(self, file, scale=True):\n",
    "        one_channel = np.load(file)\n",
    "        one_channel = one_channel.astype('float32')\n",
    "        if scale:\n",
    "            one_channel = 0.5 - self._scale(one_channel)\n",
    "            # self._calculate_mean_std(one_channel)\n",
    "        return one_channel\n",
    "\n",
    "    def create_windows(self, data, num_frames):\n",
    "        windows = []\n",
    "        for event in data:\n",
    "            wds = np.lib.stride_tricks.sliding_window_view(\n",
    "                        event,\n",
    "                        num_frames,\n",
    "                        axis=0)[::num_frames].transpose(0,4,1,2,3) # (windows, frames, channels, height, width)\n",
    "            windows.append(wds)\n",
    "        windows = np.array(windows)\n",
    "        shape = windows.shape\n",
    "        windows = windows.reshape(shape[0] * shape[1], shape[2], shape[3], shape[4], shape[5])\n",
    "        windows = windows.astype('float32')\n",
    "        return windows # (batch, channels, frames, height, width)\n",
    "\n",
    "    def load_data(self, files, num_frames, scale, img_size=64):\n",
    "        \"Loads all data into a single array self.data\"\n",
    "        channels = []\n",
    "        # Load all channels\n",
    "        for file in progress_bar(files, leave=False):\n",
    "            one_channel = self.load_channel(file, scale)\n",
    "            resized_array = self._resize(one_channel, img_size)\n",
    "            channels.append(resized_array)\n",
    "            del one_channel\n",
    "        all_channels = np.stack(channels, axis=2)\n",
    "        self.data = self.create_windows(all_channels, num_frames)\n",
    "\n",
    "    def shuffle(self):\n",
    "        \"\"\"Shuffles the dataset, useful for getting \n",
    "        interesting samples on the validation dataset\"\"\"\n",
    "        idxs = torch.randperm(len(self.data))\n",
    "        self.data = self.data[idxs]\n",
    "        return self\n",
    "\n",
    "    @staticmethod\n",
    "    def _scale(arr):\n",
    "        \"Scales values of array in [0,1]\"\n",
    "        m, M = arr.min(), arr.max()\n",
    "        return (arr - m) / (M - m)\n",
    "    \n",
    "    def __getitem__(self, idx):\n",
    "        return self.tfms(torch.from_numpy(self.data[idx]))\n",
    "    \n",
    "    def __len__(self): return len(self.data)\n",
    "\n",
    "    def save(self, fname=\"cloud_frames.npy\"):\n",
    "        np.save(fname, self.data)\n",
    "\n",
    "\n",
    "class CloudDatasetInference(CloudDataset):\n",
    "     def load_data(self, files, num_frames=None, scale=None):\n",
    "        \"Loads all data into a single array self.data\"\n",
    "        data = []\n",
    "        max_length = 100\n",
    "        # TODO: download everything\n",
    "        for file in files:\n",
    "            one_day = self.load_day(file, scale)\n",
    "            data.append(one_day)\n",
    "            max_length = min(max_length, len(one_day))\n",
    "        self.data = np.stack([d[:max_length] for d in data], axis=0).squeeze()\n",
    "\n",
    "\n",
    "def download_dataset(at_name, project_name):\n",
    "    \"Downloads dataset from wandb artifact\"\n",
    "    def _get_dataset(run):\n",
    "        artifact = run.use_artifact(at_name, type='dataset')\n",
    "        return artifact.download()\n",
    "\n",
    "    if wandb.run is not None:\n",
    "        run = wandb.run\n",
    "        artifact_dir = _get_dataset(run)\n",
    "    else:\n",
    "        run = wandb.init(project=project_name, job_type=\"download_dataset\")\n",
    "        artifact_dir = _get_dataset(run)\n",
    "        run.finish()\n",
    "\n",
    "    files = ls(Path(artifact_dir))\n",
    "    return files"
   ]
  },
  {
   "cell_type": "code",
   "execution_count": 26,
   "metadata": {},
   "outputs": [
    {
     "data": {
      "text/html": [
       "wandb version 0.15.3 is available!  To upgrade, please run:\n",
       " $ pip install wandb --upgrade"
      ],
      "text/plain": [
       "<IPython.core.display.HTML object>"
      ]
     },
     "metadata": {},
     "output_type": "display_data"
    },
    {
     "data": {
      "text/html": [
       "Tracking run with wandb version 0.12.21"
      ],
      "text/plain": [
       "<IPython.core.display.HTML object>"
      ]
     },
     "metadata": {},
     "output_type": "display_data"
    },
    {
     "data": {
      "text/html": [
       "Run data is saved locally in <code>c:\\Users\\riccardo\\Desktop\\cloud-movement-diffusion\\wandb\\run-20230603_195550-itflhri6</code>"
      ],
      "text/plain": [
       "<IPython.core.display.HTML object>"
      ]
     },
     "metadata": {},
     "output_type": "display_data"
    },
    {
     "data": {
      "text/html": [
       "Syncing run <strong><a href=\"https://wandb.ai/ai-industry/cloud_diffusion/runs/itflhri6\" target=\"_blank\">glamorous-capybara-127</a></strong> to <a href=\"https://wandb.ai/ai-industry/cloud_diffusion\" target=\"_blank\">Weights & Biases</a> (<a href=\"https://wandb.me/run\" target=\"_blank\">docs</a>)<br/>"
      ],
      "text/plain": [
       "<IPython.core.display.HTML object>"
      ]
     },
     "metadata": {},
     "output_type": "display_data"
    },
    {
     "name": "stderr",
     "output_type": "stream",
     "text": [
      "\u001b[34m\u001b[1mwandb\u001b[0m: Downloading large artifact SEVIR:v0, 2756.25MB. 3 files... Done. 0:0:0.0\n"
     ]
    },
    {
     "data": {
      "text/html": [
       "Waiting for W&B process to finish... <strong style=\"color:green\">(success).</strong>"
      ],
      "text/plain": [
       "<IPython.core.display.HTML object>"
      ]
     },
     "metadata": {},
     "output_type": "display_data"
    },
    {
     "data": {
      "application/vnd.jupyter.widget-view+json": {
       "model_id": "fb7c6871a52945eda41897bdbf2717fc",
       "version_major": 2,
       "version_minor": 0
      },
      "text/plain": [
       "VBox(children=(Label(value='0.004 MB of 0.004 MB uploaded (0.000 MB deduped)\\r'), FloatProgress(value=1.0, max…"
      ]
     },
     "metadata": {},
     "output_type": "display_data"
    },
    {
     "data": {
      "text/html": [
       "Synced <strong style=\"color:#cdcd00\">glamorous-capybara-127</strong>: <a href=\"https://wandb.ai/ai-industry/cloud_diffusion/runs/itflhri6\" target=\"_blank\">https://wandb.ai/ai-industry/cloud_diffusion/runs/itflhri6</a><br/>Synced 6 W&B file(s), 0 media file(s), 0 artifact file(s) and 1 other file(s)"
      ],
      "text/plain": [
       "<IPython.core.display.HTML object>"
      ]
     },
     "metadata": {},
     "output_type": "display_data"
    },
    {
     "data": {
      "text/html": [
       "Find logs at: <code>.\\wandb\\run-20230603_195550-itflhri6\\logs</code>"
      ],
      "text/plain": [
       "<IPython.core.display.HTML object>"
      ]
     },
     "metadata": {},
     "output_type": "display_data"
    },
    {
     "name": "stderr",
     "output_type": "stream",
     "text": [
      "                                             \r"
     ]
    },
    {
     "name": "stdout",
     "output_type": "stream",
     "text": [
      "Let's grab 5 samples: torch.Size([5, 4, 3, 64, 64])\n"
     ]
    }
   ],
   "source": [
    "files = download_dataset(DATASET_ARTIFACT, project_name=PROJECT_NAME)\n",
    "train_ds = CloudDataset(files)\n",
    "print(f\"Let's grab 5 samples: {train_ds[0:5].shape}\")"
   ]
  },
  {
   "cell_type": "code",
   "execution_count": 27,
   "metadata": {},
   "outputs": [
    {
     "name": "stderr",
     "output_type": "stream",
     "text": [
      "Clipping input data to the valid range for imshow with RGB data ([0..1] for floats or [0..255] for integers).\n",
      "Clipping input data to the valid range for imshow with RGB data ([0..1] for floats or [0..255] for integers).\n",
      "Clipping input data to the valid range for imshow with RGB data ([0..1] for floats or [0..255] for integers).\n",
      "Clipping input data to the valid range for imshow with RGB data ([0..1] for floats or [0..255] for integers).\n",
      "Clipping input data to the valid range for imshow with RGB data ([0..1] for floats or [0..255] for integers).\n"
     ]
    },
    {
     "data": {
      "image/png": "[encoded data removed]",
      "text/plain": [
       "<Figure size 1500x300 with 5 Axes>"
      ]
     },
     "metadata": {},
     "output_type": "display_data"
    }
   ],
   "source": [
    "import matplotlib.pyplot as plt\n",
    "# Show some samples\n",
    "fig, axs = plt.subplots(1, 5, figsize=(15, 3))\n",
    "for i, ax in enumerate(axs):\n",
    "    ax.imshow(train_ds[i][0].permute(1,2,0).numpy())\n",
    "    ax.axis('off')"
   ]
  },
  {
   "cell_type": "code",
   "execution_count": 31,
   "metadata": {},
   "outputs": [
    {
     "data": {
      "text/plain": [
       "tensor([[[[-0.2151, -0.2228, -0.2280,  ..., -0.1831, -0.1855, -0.1891],\n",
       "          [-0.2127, -0.2176, -0.2221,  ..., -0.1879, -0.1898, -0.1931],\n",
       "          [-0.2093, -0.2151, -0.2211,  ..., -0.1925, -0.1982, -0.1929],\n",
       "          ...,\n",
       "          [-0.1805, -0.1874, -0.1945,  ..., -0.2013, -0.2061, -0.2021],\n",
       "          [-0.1870, -0.1960, -0.1944,  ..., -0.2021, -0.2021, -0.2020],\n",
       "          [-0.1912, -0.1920, -0.1937,  ..., -0.2045, -0.1990, -0.1980]],\n",
       "\n",
       "         [[-0.1859, -0.1942, -0.1793,  ..., -0.2080, -0.2110, -0.2089],\n",
       "          [-0.1806, -0.2001, -0.1886,  ..., -0.2100, -0.2099, -0.2103],\n",
       "          [-0.1847, -0.1960, -0.1935,  ..., -0.2039, -0.2054, -0.2077],\n",
       "          ...,\n",
       "          [-0.1847, -0.1753, -0.1701,  ..., -0.0870, -0.1596, -0.0866],\n",
       "          [-0.1831, -0.1772, -0.1801,  ..., -0.1125, -0.1214, -0.1356],\n",
       "          [-0.1720, -0.1763, -0.1937,  ..., -0.1697, -0.0809, -0.1123]],\n",
       "\n",
       "         [[ 0.5000,  0.5000,  0.5000,  ...,  0.5000,  0.5000,  0.5000],\n",
       "          [ 0.5000,  0.5000,  0.5000,  ...,  0.5000,  0.5000,  0.5000],\n",
       "          [ 0.5000,  0.5000,  0.5000,  ...,  0.5000,  0.5000,  0.5000],\n",
       "          ...,\n",
       "          [ 0.5000,  0.5000,  0.5000,  ...,  0.5000,  0.5000,  0.5000],\n",
       "          [ 0.5000,  0.5000,  0.5000,  ...,  0.5000,  0.5000,  0.5000],\n",
       "          [ 0.5000,  0.5000,  0.5000,  ...,  0.5000,  0.5000,  0.4941]]],\n",
       "\n",
       "\n",
       "        [[[-0.2152, -0.2223, -0.2272,  ..., -0.1843, -0.1860, -0.1903],\n",
       "          [-0.2151, -0.2192, -0.2232,  ..., -0.1866, -0.1917, -0.1940],\n",
       "          [-0.2078, -0.2130, -0.2201,  ..., -0.1957, -0.1969, -0.1916],\n",
       "          ...,\n",
       "          [-0.1817, -0.1874, -0.1944,  ..., -0.2025, -0.2061, -0.2048],\n",
       "          [-0.1846, -0.1935, -0.1931,  ..., -0.2026, -0.1990, -0.2032],\n",
       "          [-0.1887, -0.1898, -0.1935,  ..., -0.2021, -0.2014, -0.1963]],\n",
       "\n",
       "         [[-0.1875, -0.1940, -0.1785,  ..., -0.2082, -0.2104, -0.2085],\n",
       "          [-0.1800, -0.2003, -0.1884,  ..., -0.2096, -0.2096, -0.2096],\n",
       "          [-0.1841, -0.1962, -0.1937,  ..., -0.2035, -0.2053, -0.2074],\n",
       "          ...,\n",
       "          [-0.1823, -0.1757, -0.1697,  ..., -0.0676, -0.1147, -0.1353],\n",
       "          [-0.1773, -0.1767, -0.1801,  ..., -0.0849, -0.0658, -0.1197],\n",
       "          [-0.1818, -0.1680, -0.1907,  ..., -0.0972, -0.1202, -0.0736]],\n",
       "\n",
       "         [[ 0.5000,  0.5000,  0.5000,  ...,  0.5000,  0.5000,  0.5000],\n",
       "          [ 0.5000,  0.5000,  0.5000,  ...,  0.5000,  0.5000,  0.5000],\n",
       "          [ 0.5000,  0.5000,  0.5000,  ...,  0.5000,  0.5000,  0.5000],\n",
       "          ...,\n",
       "          [ 0.5000,  0.5000,  0.5000,  ...,  0.5000,  0.5000,  0.5000],\n",
       "          [ 0.5000,  0.5000,  0.5000,  ...,  0.5000,  0.5000,  0.5000],\n",
       "          [ 0.5000,  0.5000,  0.5000,  ...,  0.5000,  0.5000,  0.5000]]],\n",
       "\n",
       "\n",
       "        [[[-0.2130, -0.2211, -0.2257,  ..., -0.1843, -0.1867, -0.1917],\n",
       "          [-0.2150, -0.2192, -0.2252,  ..., -0.1867, -0.1921, -0.1956],\n",
       "          [-0.2103, -0.2107, -0.2192,  ..., -0.1975, -0.2006, -0.1949],\n",
       "          ...,\n",
       "          [-0.1817, -0.1876, -0.1933,  ..., -0.1994, -0.2073, -0.2036],\n",
       "          [-0.1834, -0.1923, -0.1919,  ..., -0.2004, -0.2009, -0.1989],\n",
       "          [-0.1876, -0.1863, -0.1919,  ..., -0.1997, -0.1973, -0.1988]],\n",
       "\n",
       "         [[-0.1874, -0.1939, -0.1788,  ..., -0.2074, -0.2099, -0.2086],\n",
       "          [-0.1780, -0.2002, -0.1893,  ..., -0.2090, -0.2089, -0.2093],\n",
       "          [-0.1828, -0.1954, -0.1935,  ..., -0.2031, -0.2048, -0.2066],\n",
       "          ...,\n",
       "          [-0.1886, -0.1760, -0.1688,  ..., -0.0413, -0.1325, -0.1003],\n",
       "          [-0.1750, -0.1768, -0.1798,  ..., -0.0710, -0.0403, -0.0496],\n",
       "          [-0.1828, -0.1604, -0.1908,  ..., -0.0573, -0.0285, -0.0949]],\n",
       "\n",
       "         [[ 0.5000,  0.5000,  0.5000,  ...,  0.5000,  0.5000,  0.5000],\n",
       "          [ 0.5000,  0.5000,  0.5000,  ...,  0.5000,  0.5000,  0.5000],\n",
       "          [ 0.5000,  0.5000,  0.5000,  ...,  0.5000,  0.5000,  0.5000],\n",
       "          ...,\n",
       "          [ 0.5000,  0.5000,  0.5000,  ...,  0.5000,  0.5000,  0.5000],\n",
       "          [ 0.5000,  0.5000,  0.5000,  ...,  0.5000,  0.5000,  0.5000],\n",
       "          [ 0.5000,  0.5000,  0.5000,  ...,  0.4941,  0.5000,  0.5000]]],\n",
       "\n",
       "\n",
       "        [[[-0.2135, -0.2197, -0.2249,  ..., -0.1848, -0.1883, -0.1939],\n",
       "          [-0.2147, -0.2180, -0.2251,  ..., -0.1852, -0.1921, -0.1948],\n",
       "          [-0.2083, -0.2106, -0.2195,  ..., -0.1964, -0.1994, -0.1988],\n",
       "          ...,\n",
       "          [-0.1803, -0.1854, -0.1945,  ..., -0.1988, -0.2036, -0.2058],\n",
       "          [-0.1815, -0.1904, -0.1904,  ..., -0.1985, -0.1988, -0.2013],\n",
       "          [-0.1852, -0.1856, -0.1903,  ..., -0.1984, -0.1963, -0.1965]],\n",
       "\n",
       "         [[-0.1871, -0.1935, -0.1788,  ..., -0.2071, -0.2094, -0.2085],\n",
       "          [-0.1770, -0.1994, -0.1894,  ..., -0.2085, -0.2083, -0.2087],\n",
       "          [-0.1789, -0.1954, -0.1931,  ..., -0.2033, -0.2039, -0.2058],\n",
       "          ...,\n",
       "          [-0.1887, -0.1749, -0.1689,  ..., -0.0140, -0.0759, -0.1313],\n",
       "          [-0.1749, -0.1745, -0.1793,  ..., -0.0340, -0.0551, -0.0605],\n",
       "          [-0.1720, -0.1636, -0.1879,  ..., -0.0838, -0.0374, -0.0121]],\n",
       "\n",
       "         [[ 0.5000,  0.5000,  0.5000,  ...,  0.5000,  0.5000,  0.5000],\n",
       "          [ 0.5000,  0.5000,  0.5000,  ...,  0.5000,  0.5000,  0.5000],\n",
       "          [ 0.5000,  0.5000,  0.5000,  ...,  0.5000,  0.5000,  0.5000],\n",
       "          ...,\n",
       "          [ 0.5000,  0.5000,  0.5000,  ...,  0.5000,  0.5000,  0.5000],\n",
       "          [ 0.5000,  0.5000,  0.5000,  ...,  0.5000,  0.5000,  0.5000],\n",
       "          [ 0.4980,  0.5000,  0.5000,  ...,  0.5000,  0.5000,  0.4951]]]])"
      ]
     },
     "execution_count": 31,
     "metadata": {},
     "output_type": "execute_result"
    }
   ],
   "source": [
    "train_ds[0]"
   ]
  },
  {
   "cell_type": "code",
   "execution_count": 48,
   "metadata": {},
   "outputs": [
    {
     "data": {
      "text/plain": [
       "tensor(0.9998)"
      ]
     },
     "execution_count": 48,
     "metadata": {},
     "output_type": "execute_result"
    }
   ],
   "source": [
    "m_csi = mCSI(thresholds=[.02])\n",
    "\n",
    "m_csi(train_ds[0], train_ds[0])"
   ]
  },
  {
   "cell_type": "code",
   "execution_count": 42,
   "metadata": {},
   "outputs": [
    {
     "data": {
      "text/plain": [
       "torch.Size([5, 4, 3, 64, 64])"
      ]
     },
     "execution_count": 42,
     "metadata": {},
     "output_type": "execute_result"
    }
   ],
   "source": [
    "train_ds[0:5].shape"
   ]
  },
  {
   "cell_type": "code",
   "execution_count": null,
   "metadata": {},
   "outputs": [],
   "source": []
  }
 ],
 "metadata": {
  "kernelspec": {
   "display_name": "Python 3",
   "language": "python",
   "name": "python3"
  },
  "language_info": {
   "codemirror_mode": {
    "name": "ipython",
    "version": 3
   },
   "file_extension": ".py",
   "mimetype": "text/x-python",
   "name": "python",
   "nbconvert_exporter": "python",
   "pygments_lexer": "ipython3",
   "version": "3.10.0"
  },
  "orig_nbformat": 4
 },
 "nbformat": 4,
 "nbformat_minor": 2
}
